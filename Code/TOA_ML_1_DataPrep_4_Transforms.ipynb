{
 "cells": [
  {
   "cell_type": "code",
   "execution_count": 1,
   "metadata": {
    "collapsed": true
   },
   "outputs": [],
   "source": [
    "import pickle\n",
    "import warnings\n",
    "\n",
    "warnings.filterwarnings('ignore')\n",
    "\n",
    "from sklearn.preprocessing import StandardScaler, PolynomialFeatures\n",
    "import pandas as pd\n",
    "\n",
    "from pandas.plotting import scatter_matrix\n",
    "import numpy as np\n",
    "import matplotlib.pyplot as pl\n",
    "from matplotlib import rcParams\n",
    "from seaborn import PairGrid, heatmap, kdeplot\n",
    "import cmocean.cm as cmo\n",
    "\n",
    "from scripts.prep_utils import log_transform_feature"
   ]
  },
  {
   "cell_type": "code",
   "execution_count": 2,
   "metadata": {
    "collapsed": true
   },
   "outputs": [],
   "source": [
    "%matplotlib inline\n",
    "rcParams['axes.titlesize'] = 18\n",
    "rcParams['xtick.labelsize'] = 16\n",
    "rcParams['ytick.labelsize'] = 16\n",
    "rcParams['font.size'] = 16"
   ]
  },
  {
   "cell_type": "code",
   "execution_count": 3,
   "metadata": {
    "collapsed": true
   },
   "outputs": [],
   "source": [
    "df_pca = pd.read_pickle('../DataJar/PickleJar/Interim/df_pca.pkl')\n",
    "df_aph = pd.read_pickle('../DataJar/PickleJar/Interim/df_4_ML4aph.pkl')"
   ]
  },
  {
   "cell_type": "code",
   "execution_count": 4,
   "metadata": {},
   "outputs": [
    {
     "name": "stdout",
     "output_type": "stream",
     "text": [
      "<class 'pandas.core.frame.DataFrame'>\n",
      "RangeIndex: 494 entries, 0 to 493\n",
      "Data columns (total 6 columns):\n",
      "PC1    493 non-null float64\n",
      "PC2    493 non-null float64\n",
      "PC3    493 non-null float64\n",
      "PC4    493 non-null float64\n",
      "PC5    493 non-null float64\n",
      "PC6    493 non-null float64\n",
      "dtypes: float64(6)\n",
      "memory usage: 23.2 KB\n"
     ]
    }
   ],
   "source": [
    "df_pca.info()"
   ]
  },
  {
   "cell_type": "code",
   "execution_count": 5,
   "metadata": {},
   "outputs": [
    {
     "name": "stdout",
     "output_type": "stream",
     "text": [
      "<class 'pandas.core.frame.DataFrame'>\n",
      "Int64Index: 495 entries, 0 to 494\n",
      "Data columns (total 18 columns):\n",
      "oisst            495 non-null float64\n",
      "etopo2           495 non-null float64\n",
      "solz             495 non-null float64\n",
      "sat_rho_rc412    495 non-null float64\n",
      "sat_rho_rc443    495 non-null float64\n",
      "sat_rho_rc490    495 non-null float64\n",
      "sat_rho_rc510    495 non-null float64\n",
      "sat_rho_rc555    495 non-null float64\n",
      "sat_rho_rc670    495 non-null float64\n",
      "datetime         495 non-null datetime64[ns]\n",
      "lat              495 non-null float64\n",
      "lon              495 non-null float64\n",
      "aphy411          165 non-null float64\n",
      "aphy443          167 non-null float64\n",
      "aphy489          167 non-null float64\n",
      "aphy510          167 non-null float64\n",
      "aphy555          165 non-null float64\n",
      "aphy670          167 non-null float64\n",
      "dtypes: datetime64[ns](1), float64(17)\n",
      "memory usage: 73.5 KB\n"
     ]
    }
   ],
   "source": [
    "df_aph.info()"
   ]
  },
  {
   "cell_type": "markdown",
   "metadata": {},
   "source": [
    "Discard some of the columns:"
   ]
  },
  {
   "cell_type": "code",
   "execution_count": 6,
   "metadata": {
    "collapsed": true
   },
   "outputs": [],
   "source": [
    "sat_cols_2_drop = df_aph.filter(regex='sat').columns.tolist()\n",
    "other_cols_2_drop = ['datetime', 'lat', 'lon']\n",
    "cols_2_drop = sat_cols_2_drop + other_cols_2_drop\n",
    "df_aph_small = df_aph.drop(cols_2_drop, axis=1)"
   ]
  },
  {
   "cell_type": "code",
   "execution_count": 7,
   "metadata": {},
   "outputs": [],
   "source": [
    "log_transform_feature(df_aph_small, \n",
    "                      ['etopo2']+df_aph_small.filter(regex='aphy').columns.tolist())"
   ]
  },
  {
   "cell_type": "code",
   "execution_count": 8,
   "metadata": {},
   "outputs": [
    {
     "name": "stdout",
     "output_type": "stream",
     "text": [
      "<class 'pandas.core.frame.DataFrame'>\n",
      "Int64Index: 495 entries, 0 to 494\n",
      "Data columns (total 9 columns):\n",
      "oisst            495 non-null float64\n",
      "solz             495 non-null float64\n",
      "log10_etopo2     495 non-null float64\n",
      "log10_aphy411    165 non-null float64\n",
      "log10_aphy443    167 non-null float64\n",
      "log10_aphy489    167 non-null float64\n",
      "log10_aphy510    167 non-null float64\n",
      "log10_aphy555    165 non-null float64\n",
      "log10_aphy670    167 non-null float64\n",
      "dtypes: float64(9)\n",
      "memory usage: 38.7 KB\n"
     ]
    }
   ],
   "source": [
    "df_aph_small.info()"
   ]
  },
  {
   "cell_type": "code",
   "execution_count": 9,
   "metadata": {
    "collapsed": true
   },
   "outputs": [],
   "source": [
    "cols =['log10_etopo2', 'oisst', 'solz']\n",
    "df_features = df_aph_small[cols]\n",
    "df_features = pd.concat((df_features, df_pca), axis=1)"
   ]
  },
  {
   "cell_type": "code",
   "execution_count": 10,
   "metadata": {
    "collapsed": true
   },
   "outputs": [],
   "source": [
    "df_final = pd.concat((df_features, df_aph_small.filter(regex='aphy', axis=1)),\n",
    "                     axis=1)"
   ]
  },
  {
   "cell_type": "code",
   "execution_count": 11,
   "metadata": {},
   "outputs": [
    {
     "name": "stdout",
     "output_type": "stream",
     "text": [
      "<class 'pandas.core.frame.DataFrame'>\n",
      "Int64Index: 495 entries, 0 to 494\n",
      "Data columns (total 9 columns):\n",
      "log10_etopo2    495 non-null float64\n",
      "oisst           495 non-null float64\n",
      "solz            495 non-null float64\n",
      "PC1             493 non-null float64\n",
      "PC2             493 non-null float64\n",
      "PC3             493 non-null float64\n",
      "PC4             493 non-null float64\n",
      "PC5             493 non-null float64\n",
      "PC6             493 non-null float64\n",
      "dtypes: float64(9)\n",
      "memory usage: 38.7 KB\n"
     ]
    }
   ],
   "source": [
    "df_features.info()"
   ]
  },
  {
   "cell_type": "code",
   "execution_count": 12,
   "metadata": {},
   "outputs": [
    {
     "name": "stdout",
     "output_type": "stream",
     "text": [
      "<class 'pandas.core.frame.DataFrame'>\n",
      "Int64Index: 495 entries, 0 to 494\n",
      "Data columns (total 15 columns):\n",
      "log10_etopo2     495 non-null float64\n",
      "oisst            495 non-null float64\n",
      "solz             495 non-null float64\n",
      "PC1              493 non-null float64\n",
      "PC2              493 non-null float64\n",
      "PC3              493 non-null float64\n",
      "PC4              493 non-null float64\n",
      "PC5              493 non-null float64\n",
      "PC6              493 non-null float64\n",
      "log10_aphy411    165 non-null float64\n",
      "log10_aphy443    167 non-null float64\n",
      "log10_aphy489    167 non-null float64\n",
      "log10_aphy510    167 non-null float64\n",
      "log10_aphy555    165 non-null float64\n",
      "log10_aphy670    167 non-null float64\n",
      "dtypes: float64(15)\n",
      "memory usage: 61.9 KB\n"
     ]
    }
   ],
   "source": [
    "df_final.info()"
   ]
  },
  {
   "cell_type": "code",
   "execution_count": 13,
   "metadata": {},
   "outputs": [
    {
     "data": {
      "text/html": [
       "<div>\n",
       "<style scoped>\n",
       "    .dataframe tbody tr th:only-of-type {\n",
       "        vertical-align: middle;\n",
       "    }\n",
       "\n",
       "    .dataframe tbody tr th {\n",
       "        vertical-align: top;\n",
       "    }\n",
       "\n",
       "    .dataframe thead th {\n",
       "        text-align: right;\n",
       "    }\n",
       "</style>\n",
       "<table border=\"1\" class=\"dataframe\">\n",
       "  <thead>\n",
       "    <tr style=\"text-align: right;\">\n",
       "      <th></th>\n",
       "      <th>log10_etopo2</th>\n",
       "      <th>oisst</th>\n",
       "      <th>solz</th>\n",
       "      <th>PC1</th>\n",
       "      <th>PC2</th>\n",
       "      <th>PC3</th>\n",
       "      <th>PC4</th>\n",
       "      <th>PC5</th>\n",
       "      <th>PC6</th>\n",
       "      <th>log10_aphy411</th>\n",
       "      <th>log10_aphy443</th>\n",
       "      <th>log10_aphy489</th>\n",
       "      <th>log10_aphy510</th>\n",
       "      <th>log10_aphy555</th>\n",
       "      <th>log10_aphy670</th>\n",
       "    </tr>\n",
       "  </thead>\n",
       "  <tbody>\n",
       "    <tr>\n",
       "      <th>174</th>\n",
       "      <td>1.623249</td>\n",
       "      <td>29.90</td>\n",
       "      <td>20.3</td>\n",
       "      <td>NaN</td>\n",
       "      <td>NaN</td>\n",
       "      <td>NaN</td>\n",
       "      <td>NaN</td>\n",
       "      <td>NaN</td>\n",
       "      <td>NaN</td>\n",
       "      <td>-1.96453</td>\n",
       "      <td>-1.855395</td>\n",
       "      <td>-2.080347</td>\n",
       "      <td>-2.394587</td>\n",
       "      <td>-3.186419</td>\n",
       "      <td>-2.746904</td>\n",
       "    </tr>\n",
       "    <tr>\n",
       "      <th>494</th>\n",
       "      <td>1.531479</td>\n",
       "      <td>29.22</td>\n",
       "      <td>37.8</td>\n",
       "      <td>NaN</td>\n",
       "      <td>NaN</td>\n",
       "      <td>NaN</td>\n",
       "      <td>NaN</td>\n",
       "      <td>NaN</td>\n",
       "      <td>NaN</td>\n",
       "      <td>-1.34910</td>\n",
       "      <td>-1.308821</td>\n",
       "      <td>-1.504303</td>\n",
       "      <td>-1.748581</td>\n",
       "      <td>-2.156705</td>\n",
       "      <td>-1.853841</td>\n",
       "    </tr>\n",
       "  </tbody>\n",
       "</table>\n",
       "</div>"
      ],
      "text/plain": [
       "     log10_etopo2  oisst  solz  PC1  PC2  PC3  PC4  PC5  PC6  log10_aphy411  \\\n",
       "174      1.623249  29.90  20.3  NaN  NaN  NaN  NaN  NaN  NaN       -1.96453   \n",
       "494      1.531479  29.22  37.8  NaN  NaN  NaN  NaN  NaN  NaN       -1.34910   \n",
       "\n",
       "     log10_aphy443  log10_aphy489  log10_aphy510  log10_aphy555  log10_aphy670  \n",
       "174      -1.855395      -2.080347      -2.394587      -3.186419      -2.746904  \n",
       "494      -1.308821      -1.504303      -1.748581      -2.156705      -1.853841  "
      ]
     },
     "execution_count": 13,
     "metadata": {},
     "output_type": "execute_result"
    }
   ],
   "source": [
    "df_final[df_final.PC1.isna()]"
   ]
  },
  {
   "cell_type": "code",
   "execution_count": 14,
   "metadata": {
    "collapsed": true
   },
   "outputs": [],
   "source": [
    "df_final.dropna(inplace=True)"
   ]
  },
  {
   "cell_type": "code",
   "execution_count": 15,
   "metadata": {
    "collapsed": true
   },
   "outputs": [],
   "source": [
    "df_final.to_pickle('../DataJar/PickleJar/Interim/df_5_non_standardized.pkl')"
   ]
  }
 ],
 "metadata": {
  "kernelspec": {
   "display_name": "Python [conda env:bayesian_toa_project]",
   "language": "python",
   "name": "conda-env-bayesian_toa_project-py"
  },
  "language_info": {
   "codemirror_mode": {
    "name": "ipython",
    "version": 3
   },
   "file_extension": ".py",
   "mimetype": "text/x-python",
   "name": "python",
   "nbconvert_exporter": "python",
   "pygments_lexer": "ipython3",
   "version": "3.7.1"
  }
 },
 "nbformat": 4,
 "nbformat_minor": 2
}
