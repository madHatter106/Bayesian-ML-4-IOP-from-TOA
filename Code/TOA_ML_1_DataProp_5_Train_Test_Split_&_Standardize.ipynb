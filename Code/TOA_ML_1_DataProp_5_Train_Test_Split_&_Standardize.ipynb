{
 "cells": [
  {
   "cell_type": "markdown",
   "metadata": {},
   "source": [
    "Here I describe how the dataset was split into training and testing and standardized"
   ]
  },
  {
   "cell_type": "code",
   "execution_count": 1,
   "metadata": {},
   "outputs": [],
   "source": [
    "import pickle\n",
    "import warnings\n",
    "\n",
    "warnings.filterwarnings('ignore', category=RuntimeWarning)\n",
    "\n",
    "import pandas as pd\n",
    "import numpy as np\n",
    "from sklearn.preprocessing import StandardScaler\n",
    "from sklearn.model_selection import train_test_split"
   ]
  },
  {
   "cell_type": "markdown",
   "metadata": {},
   "source": [
    "Split data to training and testing."
   ]
  },
  {
   "cell_type": "code",
   "execution_count": 4,
   "metadata": {
    "collapsed": true
   },
   "outputs": [],
   "source": [
    "df = pd.read_pickle('../DataJar/PickleJar/Interim/df_5_non_standardized.pkl')"
   ]
  },
  {
   "cell_type": "code",
   "execution_count": 5,
   "metadata": {},
   "outputs": [
    {
     "data": {
      "text/html": [
       "<div>\n",
       "<style scoped>\n",
       "    .dataframe tbody tr th:only-of-type {\n",
       "        vertical-align: middle;\n",
       "    }\n",
       "\n",
       "    .dataframe tbody tr th {\n",
       "        vertical-align: top;\n",
       "    }\n",
       "\n",
       "    .dataframe thead th {\n",
       "        text-align: right;\n",
       "    }\n",
       "</style>\n",
       "<table border=\"1\" class=\"dataframe\">\n",
       "  <thead>\n",
       "    <tr style=\"text-align: right;\">\n",
       "      <th></th>\n",
       "      <th>log10_etopo2</th>\n",
       "      <th>oisst</th>\n",
       "      <th>solz</th>\n",
       "      <th>PC1</th>\n",
       "      <th>PC2</th>\n",
       "      <th>PC3</th>\n",
       "      <th>PC4</th>\n",
       "      <th>PC5</th>\n",
       "      <th>PC6</th>\n",
       "      <th>log10_aphy411</th>\n",
       "      <th>log10_aphy443</th>\n",
       "      <th>log10_aphy489</th>\n",
       "      <th>log10_aphy510</th>\n",
       "      <th>log10_aphy555</th>\n",
       "      <th>log10_aphy670</th>\n",
       "    </tr>\n",
       "  </thead>\n",
       "  <tbody>\n",
       "    <tr>\n",
       "      <th>2</th>\n",
       "      <td>2.518514</td>\n",
       "      <td>0.78</td>\n",
       "      <td>52.7</td>\n",
       "      <td>0.064018</td>\n",
       "      <td>0.021666</td>\n",
       "      <td>0.005765</td>\n",
       "      <td>0.007146</td>\n",
       "      <td>0.001577</td>\n",
       "      <td>5.577568e-17</td>\n",
       "      <td>-1.617965</td>\n",
       "      <td>-1.511717</td>\n",
       "      <td>-1.686745</td>\n",
       "      <td>-1.899250</td>\n",
       "      <td>-2.414426</td>\n",
       "      <td>-1.982925</td>\n",
       "    </tr>\n",
       "    <tr>\n",
       "      <th>3</th>\n",
       "      <td>3.341039</td>\n",
       "      <td>1.79</td>\n",
       "      <td>45.9</td>\n",
       "      <td>0.070175</td>\n",
       "      <td>0.013182</td>\n",
       "      <td>0.000706</td>\n",
       "      <td>0.003175</td>\n",
       "      <td>-0.000535</td>\n",
       "      <td>3.729566e-17</td>\n",
       "      <td>-1.724435</td>\n",
       "      <td>-1.641475</td>\n",
       "      <td>-1.834429</td>\n",
       "      <td>-2.028214</td>\n",
       "      <td>-2.508498</td>\n",
       "      <td>-2.029142</td>\n",
       "    </tr>\n",
       "    <tr>\n",
       "      <th>26</th>\n",
       "      <td>3.643749</td>\n",
       "      <td>27.99</td>\n",
       "      <td>13.3</td>\n",
       "      <td>0.184243</td>\n",
       "      <td>-0.011560</td>\n",
       "      <td>0.033405</td>\n",
       "      <td>-0.003724</td>\n",
       "      <td>-0.005967</td>\n",
       "      <td>7.887427e-17</td>\n",
       "      <td>-2.700929</td>\n",
       "      <td>-2.591590</td>\n",
       "      <td>-2.742082</td>\n",
       "      <td>-2.986741</td>\n",
       "      <td>-3.507240</td>\n",
       "      <td>-3.251037</td>\n",
       "    </tr>\n",
       "    <tr>\n",
       "      <th>31</th>\n",
       "      <td>1.146128</td>\n",
       "      <td>6.68</td>\n",
       "      <td>27.4</td>\n",
       "      <td>-0.081843</td>\n",
       "      <td>-0.041959</td>\n",
       "      <td>0.000651</td>\n",
       "      <td>-0.005441</td>\n",
       "      <td>-0.004270</td>\n",
       "      <td>1.587916e-17</td>\n",
       "      <td>-0.321900</td>\n",
       "      <td>-0.267589</td>\n",
       "      <td>-0.544316</td>\n",
       "      <td>-0.683378</td>\n",
       "      <td>-1.201066</td>\n",
       "      <td>-0.450383</td>\n",
       "    </tr>\n",
       "    <tr>\n",
       "      <th>32</th>\n",
       "      <td>0.954243</td>\n",
       "      <td>10.66</td>\n",
       "      <td>22.2</td>\n",
       "      <td>-0.075830</td>\n",
       "      <td>-0.024480</td>\n",
       "      <td>0.018084</td>\n",
       "      <td>-0.004644</td>\n",
       "      <td>-0.000833</td>\n",
       "      <td>-2.150764e-17</td>\n",
       "      <td>-1.134416</td>\n",
       "      <td>-1.107956</td>\n",
       "      <td>-1.342935</td>\n",
       "      <td>-1.461791</td>\n",
       "      <td>-2.047644</td>\n",
       "      <td>-1.385409</td>\n",
       "    </tr>\n",
       "  </tbody>\n",
       "</table>\n",
       "</div>"
      ],
      "text/plain": [
       "    log10_etopo2  oisst  solz       PC1       PC2       PC3       PC4  \\\n",
       "2       2.518514   0.78  52.7  0.064018  0.021666  0.005765  0.007146   \n",
       "3       3.341039   1.79  45.9  0.070175  0.013182  0.000706  0.003175   \n",
       "26      3.643749  27.99  13.3  0.184243 -0.011560  0.033405 -0.003724   \n",
       "31      1.146128   6.68  27.4 -0.081843 -0.041959  0.000651 -0.005441   \n",
       "32      0.954243  10.66  22.2 -0.075830 -0.024480  0.018084 -0.004644   \n",
       "\n",
       "         PC5           PC6  log10_aphy411  log10_aphy443  log10_aphy489  \\\n",
       "2   0.001577  5.577568e-17      -1.617965      -1.511717      -1.686745   \n",
       "3  -0.000535  3.729566e-17      -1.724435      -1.641475      -1.834429   \n",
       "26 -0.005967  7.887427e-17      -2.700929      -2.591590      -2.742082   \n",
       "31 -0.004270  1.587916e-17      -0.321900      -0.267589      -0.544316   \n",
       "32 -0.000833 -2.150764e-17      -1.134416      -1.107956      -1.342935   \n",
       "\n",
       "    log10_aphy510  log10_aphy555  log10_aphy670  \n",
       "2       -1.899250      -2.414426      -1.982925  \n",
       "3       -2.028214      -2.508498      -2.029142  \n",
       "26      -2.986741      -3.507240      -3.251037  \n",
       "31      -0.683378      -1.201066      -0.450383  \n",
       "32      -1.461791      -2.047644      -1.385409  "
      ]
     },
     "execution_count": 5,
     "metadata": {},
     "output_type": "execute_result"
    }
   ],
   "source": [
    "df.head()"
   ]
  },
  {
   "cell_type": "markdown",
   "metadata": {},
   "source": [
    "First,  separate predictor (X) from predicted (y)"
   ]
  },
  {
   "cell_type": "code",
   "execution_count": 13,
   "metadata": {},
   "outputs": [],
   "source": [
    "X = df.dropna().loc[:, :'PC6']"
   ]
  },
  {
   "cell_type": "code",
   "execution_count": 14,
   "metadata": {},
   "outputs": [],
   "source": [
    "y = df.dropna().filter(regex='aphy')"
   ]
  },
  {
   "cell_type": "markdown",
   "metadata": {},
   "source": [
    "Split 90%/10% with fixed random state for reproducibility"
   ]
  },
  {
   "cell_type": "code",
   "execution_count": 16,
   "metadata": {},
   "outputs": [],
   "source": [
    "X_train, X_test, y_train, y_test = train_test_split(X, y, test_size=.10,\n",
    "                                                   random_state=42)"
   ]
  },
  {
   "cell_type": "markdown",
   "metadata": {},
   "source": [
    "Standardization. Note only predictors are standardized here."
   ]
  },
  {
   "cell_type": "code",
   "execution_count": 20,
   "metadata": {
    "collapsed": true
   },
   "outputs": [],
   "source": [
    "scaler = StandardScaler(with_mean=True, with_std=True)"
   ]
  },
  {
   "cell_type": "code",
   "execution_count": 28,
   "metadata": {
    "collapsed": true
   },
   "outputs": [],
   "source": [
    "X_train_s = scaler.fit_transform(X_train)"
   ]
  },
  {
   "cell_type": "code",
   "execution_count": 29,
   "metadata": {},
   "outputs": [
    {
     "data": {
      "text/plain": [
       "array([[ 1.5922115 ,  0.31637091, -1.18204215, ..., -0.53562835,\n",
       "         0.27754129,  0.05459972],\n",
       "       [ 1.69621622, -0.45335793, -0.44955115, ..., -0.05241437,\n",
       "        -1.14659476,  0.68993956],\n",
       "       [-0.7879927 , -0.89844923,  0.55423281, ...,  0.83231117,\n",
       "        -0.23837011, -0.40142711],\n",
       "       ...,\n",
       "       [-0.7879927 , -0.95426926,  0.83909042, ...,  0.85142473,\n",
       "        -0.4727367 , -0.35348952],\n",
       "       [-0.0373393 ,  0.08280815,  0.25581055, ..., -0.04648142,\n",
       "        -0.93770504, -0.62854087],\n",
       "       [ 1.71894864,  0.81434435, -0.55128601, ...,  0.27774257,\n",
       "        -1.07267356,  0.15492883]])"
      ]
     },
     "execution_count": 29,
     "metadata": {},
     "output_type": "execute_result"
    }
   ],
   "source": [
    "X_train_s"
   ]
  },
  {
   "cell_type": "code",
   "execution_count": 31,
   "metadata": {},
   "outputs": [
    {
     "data": {
      "text/plain": [
       "((145, 9), (145, 9))"
      ]
     },
     "execution_count": 31,
     "metadata": {},
     "output_type": "execute_result"
    }
   ],
   "source": [
    "X_train_s.shape, X_train.shape"
   ]
  },
  {
   "cell_type": "code",
   "execution_count": 33,
   "metadata": {},
   "outputs": [],
   "source": [
    "X_train_s = pd.DataFrame(X_train_s, \n",
    "                         columns=[f'{col}_s' for col in X_train.columns], \n",
    "                         index=X_train.index)"
   ]
  },
  {
   "cell_type": "code",
   "execution_count": 35,
   "metadata": {
    "collapsed": true
   },
   "outputs": [],
   "source": [
    "X_test_s = scaler.transform(X_test)\n",
    "X_test_s = pd.DataFrame(X_test_s, columns=[f'{col}_s' for col in X_test.columns],\n",
    "                        index=X_test.index)"
   ]
  },
  {
   "cell_type": "code",
   "execution_count": null,
   "metadata": {
    "collapsed": true
   },
   "outputs": [],
   "source": [
    "datadict = dict(x_train=X_train, x_train_s=X_train_s,\n",
    "                x_test=X_test, x_test_s=X_test,\n",
    "                y_train=y_train, y_test=y_test, scaler=scaler)\n",
    "    \n",
    "with open('../DataJar/PickleJar/DataSets/AphiTrainTestSplitDataSets_original.pkl',\n",
    "         'wb') as fb:\n",
    "    pickle.dump(datadict, fb, protocol=pickle.HIGHEST_PROTOCOL)"
   ]
  }
 ],
 "metadata": {
  "kernelspec": {
   "display_name": "Python [conda env:bayesian_toa_project]",
   "language": "python",
   "name": "conda-env-bayesian_toa_project-py"
  },
  "language_info": {
   "codemirror_mode": {
    "name": "ipython",
    "version": 3
   },
   "file_extension": ".py",
   "mimetype": "text/x-python",
   "name": "python",
   "nbconvert_exporter": "python",
   "pygments_lexer": "ipython3",
   "version": "3.7.1"
  }
 },
 "nbformat": 4,
 "nbformat_minor": 2
}
