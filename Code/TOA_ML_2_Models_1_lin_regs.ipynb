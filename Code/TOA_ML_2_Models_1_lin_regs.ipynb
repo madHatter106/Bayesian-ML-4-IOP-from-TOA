{
 "cells": [
  {
   "cell_type": "code",
   "execution_count": 3,
   "metadata": {},
   "outputs": [],
   "source": [
    "import pathlib\n",
    "\n",
    "from loguru import logger\n",
    "\n",
    "from scripts.pymc_models import hs_regression\n",
    "from scripts.pymc_utils import run_model"
   ]
  },
  {
   "cell_type": "code",
   "execution_count": 5,
   "metadata": {},
   "outputs": [
    {
     "data": {
      "text/plain": [
       "1"
      ]
     },
     "execution_count": 5,
     "metadata": {},
     "output_type": "execute_result"
    }
   ],
   "source": [
    "data_path = '../DataJar/PickleJar/DataSets/AphiTrainTestSplitDataSets_original.pkl'\n",
    "log_path = pathlib.Path.cwd() / '.logs'\n",
    "log_path.mkdir(exist_ok=True)\n",
    "logger.add(log_path/\"linreg_{time}.log\")"
   ]
  },
  {
   "cell_type": "code",
   "execution_count": 4,
   "metadata": {
    "collapsed": true
   },
   "outputs": [],
   "source": [
    "run_model(hs_regression, logger, datapath=data_path)\n",
    "logger.info(\"done!\")"
   ]
  }
 ],
 "metadata": {
  "kernelspec": {
   "display_name": "Python [conda env:bayesian_toa_project]",
   "language": "python",
   "name": "conda-env-bayesian_toa_project-py"
  },
  "language_info": {
   "codemirror_mode": {
    "name": "ipython",
    "version": 3
   },
   "file_extension": ".py",
   "mimetype": "text/x-python",
   "name": "python",
   "nbconvert_exporter": "python",
   "pygments_lexer": "ipython3",
   "version": "3.7.1"
  }
 },
 "nbformat": 4,
 "nbformat_minor": 2
}
