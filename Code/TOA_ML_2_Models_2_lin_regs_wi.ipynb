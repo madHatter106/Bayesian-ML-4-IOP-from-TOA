{
 "cells": [
  {
   "cell_type": "code",
   "execution_count": 1,
   "metadata": {
    "collapsed": true
   },
   "outputs": [],
   "source": [
    "import pathlib\n",
    "\n",
    "from loguru import logger\n",
    "\n",
    "from scripts.pymc_models import hs_regression\n",
    "from scripts.pymc_utils import run_model"
   ]
  },
  {
   "cell_type": "code",
   "execution_count": null,
   "metadata": {
    "collapsed": true
   },
   "outputs": [],
   "source": [
    "data_path = '../DataJar/PickleJar/DataSets/AphiTrainTestSplitDataSets_original.pkl'\n",
    "log_path = pathlib.Path.cwd() / '.logs'\n",
    "log_path.mkdir(exist_ok=True)\n",
    "logger.add(\"linreg_wi_{time}.log\")\n",
    "run_model(hs_regression, logger, compute_interactions=True, datapath=datapath)\n",
    "logger.info(\"done!\")"
   ]
  }
 ],
 "metadata": {
  "kernelspec": {
   "display_name": "Python [conda env:bayesian_toa_project]",
   "language": "python",
   "name": "conda-env-bayesian_toa_project-py"
  },
  "language_info": {
   "codemirror_mode": {
    "name": "ipython",
    "version": 3
   },
   "file_extension": ".py",
   "mimetype": "text/x-python",
   "name": "python",
   "nbconvert_exporter": "python",
   "pygments_lexer": "ipython3",
   "version": "3.7.1"
  }
 },
 "nbformat": 4,
 "nbformat_minor": 2
}
