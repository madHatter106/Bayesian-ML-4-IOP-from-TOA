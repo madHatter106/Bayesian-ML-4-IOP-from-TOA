{
 "cells": [
  {
   "cell_type": "markdown",
   "metadata": {},
   "source": [
    "In this notebook, I use the index of a subset of this data used elsewhere in the GIOP model to extract a testing set.\n",
    "The remainder of the data, with valid entries, is used to constitute a training data set."
   ]
  },
  {
   "cell_type": "code",
   "execution_count": 54,
   "metadata": {},
   "outputs": [],
   "source": [
    "import pickle\n",
    "\n",
    "import pandas as pd\n",
    "import numpy as np"
   ]
  },
  {
   "cell_type": "code",
   "execution_count": 53,
   "metadata": {},
   "outputs": [
    {
     "name": "stdout",
     "output_type": "stream",
     "text": [
      "pandas: 0.24.2\n",
      "numpy: 1.16.4\n",
      "seaborn: 0.9.0\n"
     ]
    }
   ],
   "source": [
    "def print_versions(pkg):\n",
    "    print(f'{pkg.__name__}: {pkg.__version__}')\n",
    "\n",
    "for p in [pickle, pd, np]:\n",
    "    try:\n",
    "        print_versions(p)\n",
    "    except:\n",
    "        pass"
   ]
  },
  {
   "cell_type": "code",
   "execution_count": 2,
   "metadata": {},
   "outputs": [],
   "source": [
    "pl.style.use('bmh')"
   ]
  },
  {
   "cell_type": "code",
   "execution_count": 3,
   "metadata": {},
   "outputs": [],
   "source": [
    "df_aphy = pd.read_pickle('../PickleJar/DataSets/df_ml_aphy_swf.pkl')"
   ]
  },
  {
   "cell_type": "code",
   "execution_count": 5,
   "metadata": {},
   "outputs": [],
   "source": [
    "df_giop_test = pd.read_pickle('../PickleJar/DataSets/df_new_test_set.pkl')"
   ]
  },
  {
   "cell_type": "code",
   "execution_count": 6,
   "metadata": {},
   "outputs": [],
   "source": [
    "df_giop_test.sort_index(inplace=True)"
   ]
  },
  {
   "cell_type": "code",
   "execution_count": 7,
   "metadata": {},
   "outputs": [],
   "source": [
    "df_giop_test.drop_duplicates(inplace=True)"
   ]
  },
  {
   "cell_type": "code",
   "execution_count": 8,
   "metadata": {},
   "outputs": [],
   "source": [
    "test_index = set(df_giop_test.index.values)\n",
    "all_index = set(df_aphy.index.values)"
   ]
  },
  {
   "cell_type": "code",
   "execution_count": 9,
   "metadata": {},
   "outputs": [],
   "source": [
    "train_index = all_index.difference(test_index)"
   ]
  },
  {
   "cell_type": "code",
   "execution_count": 11,
   "metadata": {},
   "outputs": [],
   "source": [
    "df_aphy_train = df_aphy.loc[train_index]"
   ]
  },
  {
   "cell_type": "code",
   "execution_count": 12,
   "metadata": {},
   "outputs": [],
   "source": [
    "df_aphy_test = df_aphy.loc[test_index]"
   ]
  },
  {
   "cell_type": "code",
   "execution_count": 14,
   "metadata": {},
   "outputs": [
    {
     "data": {
      "text/html": [
       "<div>\n",
       "<style scoped>\n",
       "    .dataframe tbody tr th:only-of-type {\n",
       "        vertical-align: middle;\n",
       "    }\n",
       "\n",
       "    .dataframe tbody tr th {\n",
       "        vertical-align: top;\n",
       "    }\n",
       "\n",
       "    .dataframe thead th {\n",
       "        text-align: right;\n",
       "    }\n",
       "</style>\n",
       "<table border=\"1\" class=\"dataframe\">\n",
       "  <thead>\n",
       "    <tr style=\"text-align: right;\">\n",
       "      <th></th>\n",
       "      <th>id</th>\n",
       "      <th>datetime</th>\n",
       "      <th>lat</th>\n",
       "      <th>lon</th>\n",
       "      <th>oisst</th>\n",
       "      <th>etopo2</th>\n",
       "      <th>sola</th>\n",
       "      <th>solz</th>\n",
       "      <th>sat_rho_rc412</th>\n",
       "      <th>sat_rho_rc443</th>\n",
       "      <th>sat_rho_rc490</th>\n",
       "      <th>sat_rho_rc510</th>\n",
       "      <th>sat_rho_rc555</th>\n",
       "      <th>sat_rho_rc670</th>\n",
       "      <th>aphy411</th>\n",
       "      <th>aphy443</th>\n",
       "      <th>aphy489</th>\n",
       "      <th>aphy510</th>\n",
       "      <th>aphy555</th>\n",
       "      <th>aphy670</th>\n",
       "    </tr>\n",
       "    <tr>\n",
       "      <th>Row_ID</th>\n",
       "      <th></th>\n",
       "      <th></th>\n",
       "      <th></th>\n",
       "      <th></th>\n",
       "      <th></th>\n",
       "      <th></th>\n",
       "      <th></th>\n",
       "      <th></th>\n",
       "      <th></th>\n",
       "      <th></th>\n",
       "      <th></th>\n",
       "      <th></th>\n",
       "      <th></th>\n",
       "      <th></th>\n",
       "      <th></th>\n",
       "      <th></th>\n",
       "      <th></th>\n",
       "      <th></th>\n",
       "      <th></th>\n",
       "      <th></th>\n",
       "    </tr>\n",
       "  </thead>\n",
       "  <tbody>\n",
       "    <tr>\n",
       "      <th>129</th>\n",
       "      <td>1910</td>\n",
       "      <td>2000-03-03 16:50:00</td>\n",
       "      <td>26.1290</td>\n",
       "      <td>-82.9590</td>\n",
       "      <td>22.17</td>\n",
       "      <td>34.0</td>\n",
       "      <td>191.6</td>\n",
       "      <td>33.2</td>\n",
       "      <td>0.007258</td>\n",
       "      <td>0.007271</td>\n",
       "      <td>0.007041</td>\n",
       "      <td>0.005481</td>\n",
       "      <td>0.003820</td>\n",
       "      <td>0.001990</td>\n",
       "      <td>0.01827</td>\n",
       "      <td>0.01975</td>\n",
       "      <td>0.01128</td>\n",
       "      <td>0.00582</td>\n",
       "      <td>0.00148</td>\n",
       "      <td>0.00273</td>\n",
       "    </tr>\n",
       "    <tr>\n",
       "      <th>196</th>\n",
       "      <td>6573</td>\n",
       "      <td>2001-10-11 14:19:00</td>\n",
       "      <td>39.0870</td>\n",
       "      <td>-13.4190</td>\n",
       "      <td>19.97</td>\n",
       "      <td>3495.0</td>\n",
       "      <td>193.3</td>\n",
       "      <td>47.1</td>\n",
       "      <td>0.009356</td>\n",
       "      <td>0.009632</td>\n",
       "      <td>0.009137</td>\n",
       "      <td>0.007881</td>\n",
       "      <td>0.006752</td>\n",
       "      <td>0.005236</td>\n",
       "      <td>0.01238</td>\n",
       "      <td>0.01703</td>\n",
       "      <td>0.01024</td>\n",
       "      <td>0.00610</td>\n",
       "      <td>0.00178</td>\n",
       "      <td>0.00388</td>\n",
       "    </tr>\n",
       "    <tr>\n",
       "      <th>135</th>\n",
       "      <td>1917</td>\n",
       "      <td>2000-03-03 20:55:00</td>\n",
       "      <td>26.2260</td>\n",
       "      <td>-83.1880</td>\n",
       "      <td>22.77</td>\n",
       "      <td>43.0</td>\n",
       "      <td>191.2</td>\n",
       "      <td>33.3</td>\n",
       "      <td>0.006975</td>\n",
       "      <td>0.006786</td>\n",
       "      <td>0.006393</td>\n",
       "      <td>0.005140</td>\n",
       "      <td>0.003679</td>\n",
       "      <td>0.001897</td>\n",
       "      <td>0.01571</td>\n",
       "      <td>0.01748</td>\n",
       "      <td>0.00950</td>\n",
       "      <td>0.00473</td>\n",
       "      <td>0.00091</td>\n",
       "      <td>0.00219</td>\n",
       "    </tr>\n",
       "    <tr>\n",
       "      <th>200</th>\n",
       "      <td>6641</td>\n",
       "      <td>2002-03-11 13:41:00</td>\n",
       "      <td>-42.4345</td>\n",
       "      <td>-56.3325</td>\n",
       "      <td>14.75</td>\n",
       "      <td>3784.0</td>\n",
       "      <td>28.9</td>\n",
       "      <td>42.4</td>\n",
       "      <td>0.003014</td>\n",
       "      <td>0.003245</td>\n",
       "      <td>0.003490</td>\n",
       "      <td>0.002974</td>\n",
       "      <td>0.002267</td>\n",
       "      <td>0.000918</td>\n",
       "      <td>0.01504</td>\n",
       "      <td>0.01893</td>\n",
       "      <td>0.01355</td>\n",
       "      <td>0.00792</td>\n",
       "      <td>0.00136</td>\n",
       "      <td>0.00601</td>\n",
       "    </tr>\n",
       "    <tr>\n",
       "      <th>172</th>\n",
       "      <td>2041</td>\n",
       "      <td>2001-08-28 18:45:00</td>\n",
       "      <td>27.3130</td>\n",
       "      <td>-83.3020</td>\n",
       "      <td>29.90</td>\n",
       "      <td>33.0</td>\n",
       "      <td>211.0</td>\n",
       "      <td>20.4</td>\n",
       "      <td>0.020585</td>\n",
       "      <td>0.019720</td>\n",
       "      <td>0.017998</td>\n",
       "      <td>0.016039</td>\n",
       "      <td>0.013809</td>\n",
       "      <td>0.009977</td>\n",
       "      <td>0.00941</td>\n",
       "      <td>0.01173</td>\n",
       "      <td>0.00684</td>\n",
       "      <td>0.00327</td>\n",
       "      <td>0.00061</td>\n",
       "      <td>0.00149</td>\n",
       "    </tr>\n",
       "  </tbody>\n",
       "</table>\n",
       "</div>"
      ],
      "text/plain": [
       "          id            datetime      lat      lon  oisst  etopo2   sola  \\\n",
       "Row_ID                                                                     \n",
       "129     1910 2000-03-03 16:50:00  26.1290 -82.9590  22.17    34.0  191.6   \n",
       "196     6573 2001-10-11 14:19:00  39.0870 -13.4190  19.97  3495.0  193.3   \n",
       "135     1917 2000-03-03 20:55:00  26.2260 -83.1880  22.77    43.0  191.2   \n",
       "200     6641 2002-03-11 13:41:00 -42.4345 -56.3325  14.75  3784.0   28.9   \n",
       "172     2041 2001-08-28 18:45:00  27.3130 -83.3020  29.90    33.0  211.0   \n",
       "\n",
       "        solz  sat_rho_rc412  sat_rho_rc443  sat_rho_rc490  sat_rho_rc510  \\\n",
       "Row_ID                                                                     \n",
       "129     33.2       0.007258       0.007271       0.007041       0.005481   \n",
       "196     47.1       0.009356       0.009632       0.009137       0.007881   \n",
       "135     33.3       0.006975       0.006786       0.006393       0.005140   \n",
       "200     42.4       0.003014       0.003245       0.003490       0.002974   \n",
       "172     20.4       0.020585       0.019720       0.017998       0.016039   \n",
       "\n",
       "        sat_rho_rc555  sat_rho_rc670  aphy411  aphy443  aphy489  aphy510  \\\n",
       "Row_ID                                                                     \n",
       "129          0.003820       0.001990  0.01827  0.01975  0.01128  0.00582   \n",
       "196          0.006752       0.005236  0.01238  0.01703  0.01024  0.00610   \n",
       "135          0.003679       0.001897  0.01571  0.01748  0.00950  0.00473   \n",
       "200          0.002267       0.000918  0.01504  0.01893  0.01355  0.00792   \n",
       "172          0.013809       0.009977  0.00941  0.01173  0.00684  0.00327   \n",
       "\n",
       "        aphy555  aphy670  \n",
       "Row_ID                    \n",
       "129     0.00148  0.00273  \n",
       "196     0.00178  0.00388  \n",
       "135     0.00091  0.00219  \n",
       "200     0.00136  0.00601  \n",
       "172     0.00061  0.00149  "
      ]
     },
     "execution_count": 14,
     "metadata": {},
     "output_type": "execute_result"
    }
   ],
   "source": [
    "df_aphy_test.head()"
   ]
  },
  {
   "cell_type": "code",
   "execution_count": 18,
   "metadata": {},
   "outputs": [],
   "source": [
    "pd.testing.assert_frame_equal(df_aphy_test.sort_index(),df_aphy.loc[df_giop_test.index.values] )"
   ]
  },
  {
   "cell_type": "code",
   "execution_count": 37,
   "metadata": {},
   "outputs": [],
   "source": [
    "df_aphy_train_y = df_aphy_train.dropna().filter(regex='aphy')"
   ]
  },
  {
   "cell_type": "code",
   "execution_count": 38,
   "metadata": {},
   "outputs": [],
   "source": [
    "df_aphy_test_y = df_aphy_test.dropna().filter(regex='aphy')"
   ]
  },
  {
   "cell_type": "code",
   "execution_count": 32,
   "metadata": {},
   "outputs": [],
   "source": [
    "anc_columns = ['oisst', 'etopo2', 'solz']\n",
    "ρ_rc_columns = df_aphy_train.filter(regex='sat_rho_rc').columns\n",
    "all_columns = anc_columns + list(ρ_rc_columns)"
   ]
  },
  {
   "cell_type": "code",
   "execution_count": 39,
   "metadata": {},
   "outputs": [],
   "source": [
    "df_aphy_train_x = df_aphy_train.dropna().loc[:, all_columns]"
   ]
  },
  {
   "cell_type": "code",
   "execution_count": 40,
   "metadata": {},
   "outputs": [],
   "source": [
    "df_aphy_test_x = df_aphy_test.dropna().loc[:, all_columns]"
   ]
  },
  {
   "cell_type": "code",
   "execution_count": 41,
   "metadata": {},
   "outputs": [
    {
     "name": "stdout",
     "output_type": "stream",
     "text": [
      "<class 'pandas.core.frame.DataFrame'>\n",
      "Int64Index: 150 entries, 2 to 494\n",
      "Data columns (total 6 columns):\n",
      "aphy411    150 non-null float64\n",
      "aphy443    150 non-null float64\n",
      "aphy489    150 non-null float64\n",
      "aphy510    150 non-null float64\n",
      "aphy555    150 non-null float64\n",
      "aphy670    150 non-null float64\n",
      "dtypes: float64(6)\n",
      "memory usage: 8.2 KB\n"
     ]
    }
   ],
   "source": [
    "df_aphy_train_y.info()"
   ]
  },
  {
   "cell_type": "code",
   "execution_count": 42,
   "metadata": {},
   "outputs": [
    {
     "name": "stdout",
     "output_type": "stream",
     "text": [
      "<class 'pandas.core.frame.DataFrame'>\n",
      "UInt64Index: 14 entries, 129 to 187\n",
      "Data columns (total 6 columns):\n",
      "aphy411    14 non-null float64\n",
      "aphy443    14 non-null float64\n",
      "aphy489    14 non-null float64\n",
      "aphy510    14 non-null float64\n",
      "aphy555    14 non-null float64\n",
      "aphy670    14 non-null float64\n",
      "dtypes: float64(6)\n",
      "memory usage: 784.0 bytes\n"
     ]
    }
   ],
   "source": [
    "df_aphy_test_y.info()"
   ]
  },
  {
   "cell_type": "code",
   "execution_count": 44,
   "metadata": {},
   "outputs": [
    {
     "name": "stdout",
     "output_type": "stream",
     "text": [
      "<class 'pandas.core.frame.DataFrame'>\n",
      "Int64Index: 150 entries, 2 to 494\n",
      "Data columns (total 9 columns):\n",
      "oisst            150 non-null float64\n",
      "etopo2           150 non-null float64\n",
      "solz             150 non-null float64\n",
      "sat_rho_rc412    150 non-null float64\n",
      "sat_rho_rc443    150 non-null float64\n",
      "sat_rho_rc490    150 non-null float64\n",
      "sat_rho_rc510    150 non-null float64\n",
      "sat_rho_rc555    150 non-null float64\n",
      "sat_rho_rc670    150 non-null float64\n",
      "dtypes: float64(9)\n",
      "memory usage: 11.7 KB\n"
     ]
    }
   ],
   "source": [
    "df_aphy_train_x.info()"
   ]
  },
  {
   "cell_type": "code",
   "execution_count": 43,
   "metadata": {},
   "outputs": [
    {
     "name": "stdout",
     "output_type": "stream",
     "text": [
      "<class 'pandas.core.frame.DataFrame'>\n",
      "UInt64Index: 14 entries, 129 to 187\n",
      "Data columns (total 9 columns):\n",
      "oisst            14 non-null float64\n",
      "etopo2           14 non-null float64\n",
      "solz             14 non-null float64\n",
      "sat_rho_rc412    14 non-null float64\n",
      "sat_rho_rc443    14 non-null float64\n",
      "sat_rho_rc490    14 non-null float64\n",
      "sat_rho_rc510    14 non-null float64\n",
      "sat_rho_rc555    14 non-null float64\n",
      "sat_rho_rc670    14 non-null float64\n",
      "dtypes: float64(9)\n",
      "memory usage: 1.1 KB\n"
     ]
    }
   ],
   "source": [
    "df_aphy_test_x.info()"
   ]
  },
  {
   "cell_type": "code",
   "execution_count": null,
   "metadata": {},
   "outputs": [],
   "source": [
    "datadict = dict(x_test=df_aphy_test_x, y_test=df_aphy_test_y,\n",
    "                x_train=df_aphy_train_x, y_train=df_aphy_train_y)\n",
    "with open('../PickleJar/DataSets/SplitSets.pkl', 'wb') as fb:\n",
    "    pickle.dump(datadict, fb, protocol=pickle.HIGHEST_PROTOCOL)"
   ]
  },
  {
   "cell_type": "code",
   "execution_count": null,
   "metadata": {},
   "outputs": [],
   "source": []
  }
 ],
 "metadata": {
  "kernelspec": {
   "display_name": "Python [conda env:bayesian_toa_project]",
   "language": "python",
   "name": "conda-env-bayesian_toa_project-py"
  },
  "language_info": {
   "codemirror_mode": {
    "name": "ipython",
    "version": 3
   },
   "file_extension": ".py",
   "mimetype": "text/x-python",
   "name": "python",
   "nbconvert_exporter": "python",
   "pygments_lexer": "ipython3",
   "version": "3.7.3"
  }
 },
 "nbformat": 4,
 "nbformat_minor": 2
}
