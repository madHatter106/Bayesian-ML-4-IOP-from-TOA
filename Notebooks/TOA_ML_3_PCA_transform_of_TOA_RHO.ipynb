{
 "cells": [
  {
   "cell_type": "markdown",
   "metadata": {},
   "source": [
    "In this notebook I load the split data set saved in the previous notebook, and compute a PCA transformation TOA reflectance of the training set. I apply this transformation to both training and test sets"
   ]
  },
  {
   "cell_type": "code",
   "execution_count": 1,
   "metadata": {},
   "outputs": [],
   "source": [
    "import pickle\n",
    "import warnings\n",
    "\n",
    "import numpy as np\n",
    "import pandas as pd\n",
    "\n",
    "from sklearn.decomposition import PCA\n",
    "\n",
    "from seaborn import heatmap\n",
    "import matplotlib.pyplot as pl\n",
    "\n",
    "from notebook_utils import *\n",
    "\n",
    "warnings.filterwarnings('ignore')"
   ]
  },
  {
   "cell_type": "code",
   "execution_count": 2,
   "metadata": {},
   "outputs": [],
   "source": [
    "%matplotlib inline\n",
    "pl.style.use('bmh')"
   ]
  },
  {
   "cell_type": "code",
   "execution_count": 3,
   "metadata": {},
   "outputs": [],
   "source": [
    "with open('../PickleJar/DataSets/SplitSets.pkl', 'rb') as fb:\n",
    "    datadict = pickle.load(fb)"
   ]
  },
  {
   "cell_type": "code",
   "execution_count": 4,
   "metadata": {},
   "outputs": [],
   "source": [
    "x_test = datadict['x_test']\n",
    "x_train = datadict['x_train']"
   ]
  },
  {
   "cell_type": "code",
   "execution_count": 5,
   "metadata": {},
   "outputs": [
    {
     "name": "stdout",
     "output_type": "stream",
     "text": [
      "<class 'pandas.core.frame.DataFrame'>\n",
      "UInt64Index: 14 entries, 129 to 187\n",
      "Data columns (total 9 columns):\n",
      "oisst            14 non-null float64\n",
      "etopo2           14 non-null float64\n",
      "solz             14 non-null float64\n",
      "sat_rho_rc412    14 non-null float64\n",
      "sat_rho_rc443    14 non-null float64\n",
      "sat_rho_rc490    14 non-null float64\n",
      "sat_rho_rc510    14 non-null float64\n",
      "sat_rho_rc555    14 non-null float64\n",
      "sat_rho_rc670    14 non-null float64\n",
      "dtypes: float64(9)\n",
      "memory usage: 1.1 KB\n"
     ]
    }
   ],
   "source": [
    "x_test.info()"
   ]
  },
  {
   "cell_type": "code",
   "execution_count": 6,
   "metadata": {},
   "outputs": [
    {
     "name": "stdout",
     "output_type": "stream",
     "text": [
      "<class 'pandas.core.frame.DataFrame'>\n",
      "Int64Index: 150 entries, 2 to 494\n",
      "Data columns (total 9 columns):\n",
      "oisst            150 non-null float64\n",
      "etopo2           150 non-null float64\n",
      "solz             150 non-null float64\n",
      "sat_rho_rc412    150 non-null float64\n",
      "sat_rho_rc443    150 non-null float64\n",
      "sat_rho_rc490    150 non-null float64\n",
      "sat_rho_rc510    150 non-null float64\n",
      "sat_rho_rc555    150 non-null float64\n",
      "sat_rho_rc670    150 non-null float64\n",
      "dtypes: float64(9)\n",
      "memory usage: 11.7 KB\n"
     ]
    }
   ],
   "source": [
    "x_train.info()"
   ]
  },
  {
   "cell_type": "code",
   "execution_count": 7,
   "metadata": {},
   "outputs": [],
   "source": [
    "pca_scaler = PCA()"
   ]
  },
  {
   "cell_type": "code",
   "execution_count": 8,
   "metadata": {},
   "outputs": [],
   "source": [
    "pca_train = pd.DataFrame(pca_scaler.fit_transform(x_train.filter(regex='sat_rho_rc')),\n",
    "                         columns=[f'pc{i}' for i in range(1, 7)], index=x_train.index)"
   ]
  },
  {
   "cell_type": "code",
   "execution_count": 9,
   "metadata": {},
   "outputs": [
    {
     "data": {
      "text/html": [
       "<div>\n",
       "<style scoped>\n",
       "    .dataframe tbody tr th:only-of-type {\n",
       "        vertical-align: middle;\n",
       "    }\n",
       "\n",
       "    .dataframe tbody tr th {\n",
       "        vertical-align: top;\n",
       "    }\n",
       "\n",
       "    .dataframe thead th {\n",
       "        text-align: right;\n",
       "    }\n",
       "</style>\n",
       "<table border=\"1\" class=\"dataframe\">\n",
       "  <thead>\n",
       "    <tr style=\"text-align: right;\">\n",
       "      <th></th>\n",
       "      <th>pc1</th>\n",
       "      <th>pc2</th>\n",
       "      <th>pc3</th>\n",
       "      <th>pc4</th>\n",
       "      <th>pc5</th>\n",
       "      <th>pc6</th>\n",
       "    </tr>\n",
       "    <tr>\n",
       "      <th>Row_ID</th>\n",
       "      <th></th>\n",
       "      <th></th>\n",
       "      <th></th>\n",
       "      <th></th>\n",
       "      <th></th>\n",
       "      <th></th>\n",
       "    </tr>\n",
       "  </thead>\n",
       "  <tbody>\n",
       "    <tr>\n",
       "      <th>2</th>\n",
       "      <td>-0.008285</td>\n",
       "      <td>-0.000990</td>\n",
       "      <td>0.000086</td>\n",
       "      <td>0.000170</td>\n",
       "      <td>-0.000220</td>\n",
       "      <td>0.000043</td>\n",
       "    </tr>\n",
       "    <tr>\n",
       "      <th>3</th>\n",
       "      <td>-0.005603</td>\n",
       "      <td>-0.001560</td>\n",
       "      <td>0.000351</td>\n",
       "      <td>0.000102</td>\n",
       "      <td>-0.000144</td>\n",
       "      <td>-0.000023</td>\n",
       "    </tr>\n",
       "    <tr>\n",
       "      <th>26</th>\n",
       "      <td>-0.000137</td>\n",
       "      <td>-0.006880</td>\n",
       "      <td>0.001303</td>\n",
       "      <td>0.001624</td>\n",
       "      <td>0.000121</td>\n",
       "      <td>-0.000153</td>\n",
       "    </tr>\n",
       "    <tr>\n",
       "      <th>31</th>\n",
       "      <td>0.000158</td>\n",
       "      <td>0.003202</td>\n",
       "      <td>-0.002319</td>\n",
       "      <td>0.000189</td>\n",
       "      <td>0.000257</td>\n",
       "      <td>-0.000177</td>\n",
       "    </tr>\n",
       "    <tr>\n",
       "      <th>32</th>\n",
       "      <td>0.003382</td>\n",
       "      <td>0.003694</td>\n",
       "      <td>-0.001514</td>\n",
       "      <td>0.000991</td>\n",
       "      <td>0.000237</td>\n",
       "      <td>-0.000043</td>\n",
       "    </tr>\n",
       "  </tbody>\n",
       "</table>\n",
       "</div>"
      ],
      "text/plain": [
       "             pc1       pc2       pc3       pc4       pc5       pc6\n",
       "Row_ID                                                            \n",
       "2      -0.008285 -0.000990  0.000086  0.000170 -0.000220  0.000043\n",
       "3      -0.005603 -0.001560  0.000351  0.000102 -0.000144 -0.000023\n",
       "26     -0.000137 -0.006880  0.001303  0.001624  0.000121 -0.000153\n",
       "31      0.000158  0.003202 -0.002319  0.000189  0.000257 -0.000177\n",
       "32      0.003382  0.003694 -0.001514  0.000991  0.000237 -0.000043"
      ]
     },
     "execution_count": 9,
     "metadata": {},
     "output_type": "execute_result"
    }
   ],
   "source": [
    "pca_train.head()"
   ]
  },
  {
   "cell_type": "code",
   "execution_count": 10,
   "metadata": {},
   "outputs": [
    {
     "data": {
      "image/png": "[encoded data removed]",
      "text/plain": [
       "<Figure size 612x288 with 2 Axes>"
      ]
     },
     "metadata": {
      "needs_background": "light"
     },
     "output_type": "display_data"
    }
   ],
   "source": [
    "f, axs = pl.subplots(ncols=2, figsize=(8.5, 4), constrained_layout=True)\n",
    "axs[0].set_facecolor('k')\n",
    "axs[1].set_facecolor('k')\n",
    "heatmap(pca_train.corr(), cmap='viridis', vmin=0, annot=True, cbar=False,\n",
    "       ax=axs[0], mask=np.triu(np.ones([pca_train.shape[1]]*2),), linewidth=.5, linecolor='k');\n",
    "heatmap(x_train.filter(regex='sat').corr(), vmin=0, cmap='viridis', annot=True, cbar=False,\n",
    "       ax=axs[1], mask=np.triu(np.ones([x_train.filter(regex='sat').shape[1]]*2),),\n",
    "       linewidth=.5, linecolor='k');\n",
    "axs[1].yaxis.tick_right()\n",
    "axs[0].set_yticklabels(axs[0].get_yticklabels(), rotation=0)\n",
    "axs[1].set_yticklabels(axs[1].get_yticklabels(), rotation=0);"
   ]
  },
  {
   "cell_type": "code",
   "execution_count": 11,
   "metadata": {},
   "outputs": [
    {
     "data": {
      "image/png": "[encoded data removed]",
      "text/plain": [
       "<Figure size 576x288 with 1 Axes>"
      ]
     },
     "metadata": {
      "needs_background": "light"
     },
     "output_type": "display_data"
    }
   ],
   "source": [
    "_, ax = pl.subplots(figsize=(8, 4))\n",
    "PlotPCARes(pca_scaler, threshold=1, alpha=0.9, num_pca_disp=pca_train.shape[1], ax=ax)"
   ]
  },
  {
   "cell_type": "code",
   "execution_count": 14,
   "metadata": {},
   "outputs": [
    {
     "data": {
      "image/png": "[encoded data removed]",
      "text/plain": [
       "<Figure size 576x288 with 2 Axes>"
      ]
     },
     "metadata": {
      "needs_background": "light"
     },
     "output_type": "display_data"
    }
   ],
   "source": [
    "_, ax = pl.subplots(figsize=(8, 4))\n",
    "PlotCrossCorr(pca_train, x_train.filter(regex='sat'), ax=ax, annot_kws={'fontsize': 12}, fmt='.2g')"
   ]
  },
  {
   "cell_type": "markdown",
   "metadata": {},
   "source": [
    "Merge and save"
   ]
  },
  {
   "cell_type": "code",
   "execution_count": 15,
   "metadata": {},
   "outputs": [
    {
     "data": {
      "text/html": [
       "<div>\n",
       "<style scoped>\n",
       "    .dataframe tbody tr th:only-of-type {\n",
       "        vertical-align: middle;\n",
       "    }\n",
       "\n",
       "    .dataframe tbody tr th {\n",
       "        vertical-align: top;\n",
       "    }\n",
       "\n",
       "    .dataframe thead th {\n",
       "        text-align: right;\n",
       "    }\n",
       "</style>\n",
       "<table border=\"1\" class=\"dataframe\">\n",
       "  <thead>\n",
       "    <tr style=\"text-align: right;\">\n",
       "      <th></th>\n",
       "      <th>pc1</th>\n",
       "      <th>pc2</th>\n",
       "      <th>pc3</th>\n",
       "      <th>pc4</th>\n",
       "      <th>pc5</th>\n",
       "      <th>pc6</th>\n",
       "    </tr>\n",
       "    <tr>\n",
       "      <th>Row_ID</th>\n",
       "      <th></th>\n",
       "      <th></th>\n",
       "      <th></th>\n",
       "      <th></th>\n",
       "      <th></th>\n",
       "      <th></th>\n",
       "    </tr>\n",
       "  </thead>\n",
       "  <tbody>\n",
       "    <tr>\n",
       "      <th>2</th>\n",
       "      <td>-0.008285</td>\n",
       "      <td>-0.000990</td>\n",
       "      <td>0.000086</td>\n",
       "      <td>0.000170</td>\n",
       "      <td>-0.000220</td>\n",
       "      <td>0.000043</td>\n",
       "    </tr>\n",
       "    <tr>\n",
       "      <th>3</th>\n",
       "      <td>-0.005603</td>\n",
       "      <td>-0.001560</td>\n",
       "      <td>0.000351</td>\n",
       "      <td>0.000102</td>\n",
       "      <td>-0.000144</td>\n",
       "      <td>-0.000023</td>\n",
       "    </tr>\n",
       "    <tr>\n",
       "      <th>26</th>\n",
       "      <td>-0.000137</td>\n",
       "      <td>-0.006880</td>\n",
       "      <td>0.001303</td>\n",
       "      <td>0.001624</td>\n",
       "      <td>0.000121</td>\n",
       "      <td>-0.000153</td>\n",
       "    </tr>\n",
       "    <tr>\n",
       "      <th>31</th>\n",
       "      <td>0.000158</td>\n",
       "      <td>0.003202</td>\n",
       "      <td>-0.002319</td>\n",
       "      <td>0.000189</td>\n",
       "      <td>0.000257</td>\n",
       "      <td>-0.000177</td>\n",
       "    </tr>\n",
       "    <tr>\n",
       "      <th>32</th>\n",
       "      <td>0.003382</td>\n",
       "      <td>0.003694</td>\n",
       "      <td>-0.001514</td>\n",
       "      <td>0.000991</td>\n",
       "      <td>0.000237</td>\n",
       "      <td>-0.000043</td>\n",
       "    </tr>\n",
       "  </tbody>\n",
       "</table>\n",
       "</div>"
      ],
      "text/plain": [
       "             pc1       pc2       pc3       pc4       pc5       pc6\n",
       "Row_ID                                                            \n",
       "2      -0.008285 -0.000990  0.000086  0.000170 -0.000220  0.000043\n",
       "3      -0.005603 -0.001560  0.000351  0.000102 -0.000144 -0.000023\n",
       "26     -0.000137 -0.006880  0.001303  0.001624  0.000121 -0.000153\n",
       "31      0.000158  0.003202 -0.002319  0.000189  0.000257 -0.000177\n",
       "32      0.003382  0.003694 -0.001514  0.000991  0.000237 -0.000043"
      ]
     },
     "execution_count": 15,
     "metadata": {},
     "output_type": "execute_result"
    }
   ],
   "source": [
    "pca_train.head()"
   ]
  },
  {
   "cell_type": "code",
   "execution_count": 16,
   "metadata": {},
   "outputs": [
    {
     "data": {
      "text/html": [
       "<div>\n",
       "<style scoped>\n",
       "    .dataframe tbody tr th:only-of-type {\n",
       "        vertical-align: middle;\n",
       "    }\n",
       "\n",
       "    .dataframe tbody tr th {\n",
       "        vertical-align: top;\n",
       "    }\n",
       "\n",
       "    .dataframe thead th {\n",
       "        text-align: right;\n",
       "    }\n",
       "</style>\n",
       "<table border=\"1\" class=\"dataframe\">\n",
       "  <thead>\n",
       "    <tr style=\"text-align: right;\">\n",
       "      <th></th>\n",
       "      <th>oisst</th>\n",
       "      <th>etopo2</th>\n",
       "      <th>solz</th>\n",
       "      <th>sat_rho_rc412</th>\n",
       "      <th>sat_rho_rc443</th>\n",
       "      <th>sat_rho_rc490</th>\n",
       "      <th>sat_rho_rc510</th>\n",
       "      <th>sat_rho_rc555</th>\n",
       "      <th>sat_rho_rc670</th>\n",
       "    </tr>\n",
       "    <tr>\n",
       "      <th>Row_ID</th>\n",
       "      <th></th>\n",
       "      <th></th>\n",
       "      <th></th>\n",
       "      <th></th>\n",
       "      <th></th>\n",
       "      <th></th>\n",
       "      <th></th>\n",
       "      <th></th>\n",
       "      <th></th>\n",
       "    </tr>\n",
       "  </thead>\n",
       "  <tbody>\n",
       "    <tr>\n",
       "      <th>2</th>\n",
       "      <td>0.78</td>\n",
       "      <td>330.0</td>\n",
       "      <td>52.7</td>\n",
       "      <td>0.004443</td>\n",
       "      <td>0.004387</td>\n",
       "      <td>0.004240</td>\n",
       "      <td>0.003686</td>\n",
       "      <td>0.002646</td>\n",
       "      <td>0.001177</td>\n",
       "    </tr>\n",
       "    <tr>\n",
       "      <th>3</th>\n",
       "      <td>1.79</td>\n",
       "      <td>2193.0</td>\n",
       "      <td>45.9</td>\n",
       "      <td>0.005869</td>\n",
       "      <td>0.005866</td>\n",
       "      <td>0.005535</td>\n",
       "      <td>0.004643</td>\n",
       "      <td>0.003326</td>\n",
       "      <td>0.001747</td>\n",
       "    </tr>\n",
       "    <tr>\n",
       "      <th>26</th>\n",
       "      <td>27.99</td>\n",
       "      <td>4403.0</td>\n",
       "      <td>13.3</td>\n",
       "      <td>0.011926</td>\n",
       "      <td>0.010478</td>\n",
       "      <td>0.007397</td>\n",
       "      <td>0.004815</td>\n",
       "      <td>0.003104</td>\n",
       "      <td>0.001721</td>\n",
       "    </tr>\n",
       "    <tr>\n",
       "      <th>31</th>\n",
       "      <td>6.68</td>\n",
       "      <td>14.0</td>\n",
       "      <td>27.4</td>\n",
       "      <td>0.005633</td>\n",
       "      <td>0.006515</td>\n",
       "      <td>0.007241</td>\n",
       "      <td>0.007763</td>\n",
       "      <td>0.009189</td>\n",
       "      <td>0.005709</td>\n",
       "    </tr>\n",
       "    <tr>\n",
       "      <th>32</th>\n",
       "      <td>10.66</td>\n",
       "      <td>9.0</td>\n",
       "      <td>22.2</td>\n",
       "      <td>0.007095</td>\n",
       "      <td>0.007713</td>\n",
       "      <td>0.008722</td>\n",
       "      <td>0.009292</td>\n",
       "      <td>0.011147</td>\n",
       "      <td>0.005609</td>\n",
       "    </tr>\n",
       "  </tbody>\n",
       "</table>\n",
       "</div>"
      ],
      "text/plain": [
       "        oisst  etopo2  solz  sat_rho_rc412  sat_rho_rc443  sat_rho_rc490  \\\n",
       "Row_ID                                                                     \n",
       "2        0.78   330.0  52.7       0.004443       0.004387       0.004240   \n",
       "3        1.79  2193.0  45.9       0.005869       0.005866       0.005535   \n",
       "26      27.99  4403.0  13.3       0.011926       0.010478       0.007397   \n",
       "31       6.68    14.0  27.4       0.005633       0.006515       0.007241   \n",
       "32      10.66     9.0  22.2       0.007095       0.007713       0.008722   \n",
       "\n",
       "        sat_rho_rc510  sat_rho_rc555  sat_rho_rc670  \n",
       "Row_ID                                               \n",
       "2            0.003686       0.002646       0.001177  \n",
       "3            0.004643       0.003326       0.001747  \n",
       "26           0.004815       0.003104       0.001721  \n",
       "31           0.007763       0.009189       0.005709  \n",
       "32           0.009292       0.011147       0.005609  "
      ]
     },
     "execution_count": 16,
     "metadata": {},
     "output_type": "execute_result"
    }
   ],
   "source": [
    "x_train.head()"
   ]
  },
  {
   "cell_type": "code",
   "execution_count": 17,
   "metadata": {},
   "outputs": [],
   "source": [
    "x_train_pca = x_train[['oisst', 'etopo2', 'solz']].merge(pca_train, left_index=True, right_index=True)"
   ]
  },
  {
   "cell_type": "code",
   "execution_count": 18,
   "metadata": {},
   "outputs": [],
   "source": [
    "np.testing.assert_array_equal(x_train_pca.index.values, x_train.index.values)"
   ]
  },
  {
   "cell_type": "code",
   "execution_count": 19,
   "metadata": {},
   "outputs": [],
   "source": [
    "pca_test = pd.DataFrame(pca_scaler.transform(x_test.filter(regex='sat_rho_rc')),\n",
    "                         columns=[f'pc{i}' for i in range(1, 7)], index=x_test.index)"
   ]
  },
  {
   "cell_type": "code",
   "execution_count": 20,
   "metadata": {},
   "outputs": [],
   "source": [
    "x_test_pca = x_test[['oisst', 'etopo2', 'solz']].merge(pca_test, left_index=True, right_index=True)"
   ]
  },
  {
   "cell_type": "code",
   "execution_count": 25,
   "metadata": {},
   "outputs": [],
   "source": [
    "datadict['x_test_pca'] = x_test_pca\n",
    "datadict['x_train_pca'] = x_train_pca\n",
    "datadict['pca_transformer'] = pca_scaler"
   ]
  },
  {
   "cell_type": "code",
   "execution_count": 26,
   "metadata": {},
   "outputs": [],
   "source": [
    "with open('../PickleJar/DataSets/SplitSets.pkl', 'wb') as fb:\n",
    "    pickle.dump(datadict, fb)"
   ]
  }
 ],
 "metadata": {
  "kernelspec": {
   "display_name": "Python [conda env:bayesian_toa_project]",
   "language": "python",
   "name": "conda-env-bayesian_toa_project-py"
  },
  "language_info": {
   "codemirror_mode": {
    "name": "ipython",
    "version": 3
   },
   "file_extension": ".py",
   "mimetype": "text/x-python",
   "name": "python",
   "nbconvert_exporter": "python",
   "pygments_lexer": "ipython3",
   "version": "3.7.3"
  }
 },
 "nbformat": 4,
 "nbformat_minor": 2
}
