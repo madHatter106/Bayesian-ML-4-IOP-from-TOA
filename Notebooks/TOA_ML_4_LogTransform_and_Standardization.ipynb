{
 "cells": [
  {
   "cell_type": "markdown",
   "metadata": {},
   "source": [
    "In this notebook, I log-transform depth data, then standardize the training and testing data. Note that standardization of the testing data parameterized by the training set. Standardization of the input data is often sufficient, but sampling efficiency in bayesian modeling can be improved if the the target data is also standardized. For good measure, I will therefore standardize similary the target data. \n",
    "Target data standardization is the same as for the input data."
   ]
  },
  {
   "cell_type": "code",
   "execution_count": 1,
   "metadata": {},
   "outputs": [],
   "source": [
    "import pickle\n",
    "import warnings\n",
    "warnings.filterwarnings('ignore')\n",
    "\n",
    "import numpy as np\n",
    "import pandas as pd\n",
    "\n",
    "from sklearn.preprocessing import StandardScaler\n",
    "\n",
    "from seaborn import heatmap\n",
    "import matplotlib.pyplot as pl"
   ]
  },
  {
   "cell_type": "code",
   "execution_count": 2,
   "metadata": {},
   "outputs": [],
   "source": [
    "with open('../PickleJar/DataSets/SplitSets.pkl', 'rb') as fb:\n",
    "    datadict = pickle.load(fb)"
   ]
  },
  {
   "cell_type": "code",
   "execution_count": 3,
   "metadata": {},
   "outputs": [],
   "source": [
    "x_train_pca = datadict['x_train_pca']\n",
    "x_test_pca = datadict['x_test_pca']\n",
    "y_test = datadict['y_test']\n",
    "y_train = datadict['y_train']"
   ]
  },
  {
   "cell_type": "markdown",
   "metadata": {},
   "source": [
    "Log transforming:"
   ]
  },
  {
   "cell_type": "code",
   "execution_count": 4,
   "metadata": {},
   "outputs": [],
   "source": [
    "x_train_pca.insert(x_train_pca.columns.get_loc('etopo2'), 'log_depth', np.log10(x_train_pca.etopo2))"
   ]
  },
  {
   "cell_type": "code",
   "execution_count": 5,
   "metadata": {},
   "outputs": [],
   "source": [
    "x_train_pca.drop('etopo2', axis=1, inplace=True)"
   ]
  },
  {
   "cell_type": "code",
   "execution_count": 6,
   "metadata": {},
   "outputs": [
    {
     "data": {
      "text/html": [
       "<div>\n",
       "<style scoped>\n",
       "    .dataframe tbody tr th:only-of-type {\n",
       "        vertical-align: middle;\n",
       "    }\n",
       "\n",
       "    .dataframe tbody tr th {\n",
       "        vertical-align: top;\n",
       "    }\n",
       "\n",
       "    .dataframe thead th {\n",
       "        text-align: right;\n",
       "    }\n",
       "</style>\n",
       "<table border=\"1\" class=\"dataframe\">\n",
       "  <thead>\n",
       "    <tr style=\"text-align: right;\">\n",
       "      <th></th>\n",
       "      <th>oisst</th>\n",
       "      <th>log_depth</th>\n",
       "      <th>solz</th>\n",
       "      <th>pc1</th>\n",
       "      <th>pc2</th>\n",
       "      <th>pc3</th>\n",
       "      <th>pc4</th>\n",
       "      <th>pc5</th>\n",
       "      <th>pc6</th>\n",
       "    </tr>\n",
       "    <tr>\n",
       "      <th>Row_ID</th>\n",
       "      <th></th>\n",
       "      <th></th>\n",
       "      <th></th>\n",
       "      <th></th>\n",
       "      <th></th>\n",
       "      <th></th>\n",
       "      <th></th>\n",
       "      <th></th>\n",
       "      <th></th>\n",
       "    </tr>\n",
       "  </thead>\n",
       "  <tbody>\n",
       "    <tr>\n",
       "      <th>2</th>\n",
       "      <td>0.78</td>\n",
       "      <td>2.518514</td>\n",
       "      <td>52.7</td>\n",
       "      <td>-0.008285</td>\n",
       "      <td>-0.000990</td>\n",
       "      <td>0.000086</td>\n",
       "      <td>0.000170</td>\n",
       "      <td>-0.000220</td>\n",
       "      <td>0.000043</td>\n",
       "    </tr>\n",
       "    <tr>\n",
       "      <th>3</th>\n",
       "      <td>1.79</td>\n",
       "      <td>3.341039</td>\n",
       "      <td>45.9</td>\n",
       "      <td>-0.005603</td>\n",
       "      <td>-0.001560</td>\n",
       "      <td>0.000351</td>\n",
       "      <td>0.000102</td>\n",
       "      <td>-0.000144</td>\n",
       "      <td>-0.000023</td>\n",
       "    </tr>\n",
       "    <tr>\n",
       "      <th>26</th>\n",
       "      <td>27.99</td>\n",
       "      <td>3.643749</td>\n",
       "      <td>13.3</td>\n",
       "      <td>-0.000137</td>\n",
       "      <td>-0.006880</td>\n",
       "      <td>0.001303</td>\n",
       "      <td>0.001624</td>\n",
       "      <td>0.000121</td>\n",
       "      <td>-0.000153</td>\n",
       "    </tr>\n",
       "    <tr>\n",
       "      <th>31</th>\n",
       "      <td>6.68</td>\n",
       "      <td>1.146128</td>\n",
       "      <td>27.4</td>\n",
       "      <td>0.000158</td>\n",
       "      <td>0.003202</td>\n",
       "      <td>-0.002319</td>\n",
       "      <td>0.000189</td>\n",
       "      <td>0.000257</td>\n",
       "      <td>-0.000177</td>\n",
       "    </tr>\n",
       "    <tr>\n",
       "      <th>32</th>\n",
       "      <td>10.66</td>\n",
       "      <td>0.954243</td>\n",
       "      <td>22.2</td>\n",
       "      <td>0.003382</td>\n",
       "      <td>0.003694</td>\n",
       "      <td>-0.001514</td>\n",
       "      <td>0.000991</td>\n",
       "      <td>0.000237</td>\n",
       "      <td>-0.000043</td>\n",
       "    </tr>\n",
       "  </tbody>\n",
       "</table>\n",
       "</div>"
      ],
      "text/plain": [
       "        oisst  log_depth  solz       pc1       pc2       pc3       pc4  \\\n",
       "Row_ID                                                                   \n",
       "2        0.78   2.518514  52.7 -0.008285 -0.000990  0.000086  0.000170   \n",
       "3        1.79   3.341039  45.9 -0.005603 -0.001560  0.000351  0.000102   \n",
       "26      27.99   3.643749  13.3 -0.000137 -0.006880  0.001303  0.001624   \n",
       "31       6.68   1.146128  27.4  0.000158  0.003202 -0.002319  0.000189   \n",
       "32      10.66   0.954243  22.2  0.003382  0.003694 -0.001514  0.000991   \n",
       "\n",
       "             pc5       pc6  \n",
       "Row_ID                      \n",
       "2      -0.000220  0.000043  \n",
       "3      -0.000144 -0.000023  \n",
       "26      0.000121 -0.000153  \n",
       "31      0.000257 -0.000177  \n",
       "32      0.000237 -0.000043  "
      ]
     },
     "execution_count": 6,
     "metadata": {},
     "output_type": "execute_result"
    }
   ],
   "source": [
    "x_train_pca.head()"
   ]
  },
  {
   "cell_type": "markdown",
   "metadata": {},
   "source": [
    "Scaling:"
   ]
  },
  {
   "cell_type": "code",
   "execution_count": 7,
   "metadata": {},
   "outputs": [],
   "source": [
    "std_scaler_X = StandardScaler()\n",
    "std_scaler_Y = StandardScaler()"
   ]
  },
  {
   "cell_type": "code",
   "execution_count": 8,
   "metadata": {},
   "outputs": [],
   "source": [
    "x_train_s = pd.DataFrame(std_scaler_X.fit_transform(x_train_pca), index=x_train_pca.index,\n",
    "                         columns=[f'{col}_s' for col in x_train_pca.columns])"
   ]
  },
  {
   "cell_type": "code",
   "execution_count": 9,
   "metadata": {},
   "outputs": [],
   "source": [
    "x_test_s = pd.DataFrame(std_scaler_X.transform(x_test_pca), index=x_test_pca.index,\n",
    "                        columns=[f'{col}_s' for col in x_test_pca.columns])"
   ]
  },
  {
   "cell_type": "code",
   "execution_count": 10,
   "metadata": {},
   "outputs": [],
   "source": [
    "y_train_s = pd.DataFrame(std_scaler_Y.fit_transform(y_train), index=y_train.index,\n",
    "                        columns=[f'{col}_s' for col in y_train.columns])\n",
    "y_test_s = pd.DataFrame(std_scaler_Y.fit_transform(y_test), index=y_test.index,\n",
    "                        columns=[f'{col}_s' for col in y_test.columns])"
   ]
  },
  {
   "cell_type": "code",
   "execution_count": 11,
   "metadata": {},
   "outputs": [],
   "source": [
    "datadict['x_train_s'] = x_train_s\n",
    "datadict['x_test_s'] = x_test_s\n",
    "datadict['y_train_s'] = y_train_s\n",
    "datadict['y_test_s'] = y_test_s\n",
    "datadict['std_scaler_X'] = std_scaler_X\n",
    "datadict['std_scaler_Y'] = std_scaler_Y"
   ]
  },
  {
   "cell_type": "code",
   "execution_count": 12,
   "metadata": {},
   "outputs": [],
   "source": [
    "with open('../PickleJar/DataSets/Ready4ML.pkl', 'wb') as fb:\n",
    "    pickle.dump(datadict, fb)"
   ]
  }
 ],
 "metadata": {
  "kernelspec": {
   "display_name": "Python [conda env:bayesian_toa_project]",
   "language": "python",
   "name": "conda-env-bayesian_toa_project-py"
  },
  "language_info": {
   "codemirror_mode": {
    "name": "ipython",
    "version": 3
   },
   "file_extension": ".py",
   "mimetype": "text/x-python",
   "name": "python",
   "nbconvert_exporter": "python",
   "pygments_lexer": "ipython3",
   "version": "3.7.3"
  }
 },
 "nbformat": 4,
 "nbformat_minor": 2
}
