{
 "cells": [
  {
   "cell_type": "markdown",
   "metadata": {},
   "source": [
    "In this notebook, I log-transform depth data, as well as the aphy observations, then standardize the training and testing data. Note that standardization of the testing data parameterized by the training set. Standardization of the input data is often sufficient, but sampling efficiency in bayesian modeling can be improved if the the target data is also standardized. For good measure, I will therefore standardize similary the target data. \n",
    "Target data standardization is the same as for the input data."
   ]
  },
  {
   "cell_type": "code",
   "execution_count": 1,
   "metadata": {
    "collapsed": true
   },
   "outputs": [],
   "source": [
    "import pickle\n",
    "import warnings\n",
    "warnings.filterwarnings('ignore')\n",
    "\n",
    "import numpy as np\n",
    "import pandas as pd\n",
    "\n",
    "from sklearn.preprocessing import StandardScaler\n",
    "\n",
    "from seaborn import heatmap\n",
    "import matplotlib.pyplot as pl"
   ]
  },
  {
   "cell_type": "code",
   "execution_count": 2,
   "metadata": {},
   "outputs": [],
   "source": [
    "with open('../PickleJar/DataSets/SplitSets.pkl', 'rb') as fb:\n",
    "    datadict = pickle.load(fb)"
   ]
  },
  {
   "cell_type": "code",
   "execution_count": 3,
   "metadata": {
    "collapsed": true
   },
   "outputs": [],
   "source": [
    "x_train_pca = datadict['x_train_pca']\n",
    "x_test_pca = datadict['x_test_pca']\n",
    "y_test = datadict['y_test']\n",
    "y_train = datadict['y_train']"
   ]
  },
  {
   "cell_type": "markdown",
   "metadata": {},
   "source": [
    "Log transforming:"
   ]
  },
  {
   "cell_type": "code",
   "execution_count": 14,
   "metadata": {
    "collapsed": true
   },
   "outputs": [],
   "source": [
    "x_train_pca.insert(x_train_pca.columns.get_loc('etopo2'),\n",
    "                   'log_depth', np.log10(x_train_pca.etopo2))\n",
    "\n",
    "x_test_pca.insert(x_test_pca.columns.get_loc('etopo2'),\n",
    "                   'log_depth', np.log10(x_test_pca.etopo2))"
   ]
  },
  {
   "cell_type": "code",
   "execution_count": 15,
   "metadata": {
    "collapsed": true
   },
   "outputs": [],
   "source": [
    "x_train_pca.drop('etopo2', axis=1, inplace=True)\n",
    "\n",
    "x_test_pca.drop('etopo2', axis=1, inplace=True)"
   ]
  },
  {
   "cell_type": "code",
   "execution_count": 6,
   "metadata": {},
   "outputs": [
    {
     "data": {
      "text/html": [
       "<div>\n",
       "<style scoped>\n",
       "    .dataframe tbody tr th:only-of-type {\n",
       "        vertical-align: middle;\n",
       "    }\n",
       "\n",
       "    .dataframe tbody tr th {\n",
       "        vertical-align: top;\n",
       "    }\n",
       "\n",
       "    .dataframe thead th {\n",
       "        text-align: right;\n",
       "    }\n",
       "</style>\n",
       "<table border=\"1\" class=\"dataframe\">\n",
       "  <thead>\n",
       "    <tr style=\"text-align: right;\">\n",
       "      <th></th>\n",
       "      <th>oisst</th>\n",
       "      <th>log_depth</th>\n",
       "      <th>solz</th>\n",
       "      <th>pc1</th>\n",
       "      <th>pc2</th>\n",
       "      <th>pc3</th>\n",
       "      <th>pc4</th>\n",
       "      <th>pc5</th>\n",
       "      <th>pc6</th>\n",
       "    </tr>\n",
       "    <tr>\n",
       "      <th>Row_ID</th>\n",
       "      <th></th>\n",
       "      <th></th>\n",
       "      <th></th>\n",
       "      <th></th>\n",
       "      <th></th>\n",
       "      <th></th>\n",
       "      <th></th>\n",
       "      <th></th>\n",
       "      <th></th>\n",
       "    </tr>\n",
       "  </thead>\n",
       "  <tbody>\n",
       "    <tr>\n",
       "      <th>2</th>\n",
       "      <td>0.78</td>\n",
       "      <td>2.518514</td>\n",
       "      <td>52.7</td>\n",
       "      <td>-0.008285</td>\n",
       "      <td>-0.000990</td>\n",
       "      <td>0.000086</td>\n",
       "      <td>0.000170</td>\n",
       "      <td>-0.000220</td>\n",
       "      <td>0.000043</td>\n",
       "    </tr>\n",
       "    <tr>\n",
       "      <th>3</th>\n",
       "      <td>1.79</td>\n",
       "      <td>3.341039</td>\n",
       "      <td>45.9</td>\n",
       "      <td>-0.005603</td>\n",
       "      <td>-0.001560</td>\n",
       "      <td>0.000351</td>\n",
       "      <td>0.000102</td>\n",
       "      <td>-0.000144</td>\n",
       "      <td>-0.000023</td>\n",
       "    </tr>\n",
       "    <tr>\n",
       "      <th>26</th>\n",
       "      <td>27.99</td>\n",
       "      <td>3.643749</td>\n",
       "      <td>13.3</td>\n",
       "      <td>-0.000137</td>\n",
       "      <td>-0.006880</td>\n",
       "      <td>0.001303</td>\n",
       "      <td>0.001624</td>\n",
       "      <td>0.000121</td>\n",
       "      <td>-0.000153</td>\n",
       "    </tr>\n",
       "    <tr>\n",
       "      <th>31</th>\n",
       "      <td>6.68</td>\n",
       "      <td>1.146128</td>\n",
       "      <td>27.4</td>\n",
       "      <td>0.000158</td>\n",
       "      <td>0.003202</td>\n",
       "      <td>-0.002319</td>\n",
       "      <td>0.000189</td>\n",
       "      <td>0.000257</td>\n",
       "      <td>-0.000177</td>\n",
       "    </tr>\n",
       "    <tr>\n",
       "      <th>32</th>\n",
       "      <td>10.66</td>\n",
       "      <td>0.954243</td>\n",
       "      <td>22.2</td>\n",
       "      <td>0.003382</td>\n",
       "      <td>0.003694</td>\n",
       "      <td>-0.001514</td>\n",
       "      <td>0.000991</td>\n",
       "      <td>0.000237</td>\n",
       "      <td>-0.000043</td>\n",
       "    </tr>\n",
       "  </tbody>\n",
       "</table>\n",
       "</div>"
      ],
      "text/plain": [
       "        oisst  log_depth  solz       pc1       pc2       pc3       pc4  \\\n",
       "Row_ID                                                                   \n",
       "2        0.78   2.518514  52.7 -0.008285 -0.000990  0.000086  0.000170   \n",
       "3        1.79   3.341039  45.9 -0.005603 -0.001560  0.000351  0.000102   \n",
       "26      27.99   3.643749  13.3 -0.000137 -0.006880  0.001303  0.001624   \n",
       "31       6.68   1.146128  27.4  0.000158  0.003202 -0.002319  0.000189   \n",
       "32      10.66   0.954243  22.2  0.003382  0.003694 -0.001514  0.000991   \n",
       "\n",
       "             pc5       pc6  \n",
       "Row_ID                      \n",
       "2      -0.000220  0.000043  \n",
       "3      -0.000144 -0.000023  \n",
       "26      0.000121 -0.000153  \n",
       "31      0.000257 -0.000177  \n",
       "32      0.000237 -0.000043  "
      ]
     },
     "execution_count": 6,
     "metadata": {},
     "output_type": "execute_result"
    }
   ],
   "source": [
    "x_train_pca.head()"
   ]
  },
  {
   "cell_type": "code",
   "execution_count": 45,
   "metadata": {},
   "outputs": [],
   "source": [
    "y_train_log = pd.DataFrame(np.log10(y_train.values+1e-10), \n",
    "                           columns=[f'log10_{col}' for col in y_train.columns],\n",
    "                          index=y_train.index)\n",
    "y_test_log = pd.DataFrame(np.log10(y_test.values+1e-10),\n",
    "                          columns=[f'log10_{col}' for col in y_test.columns])"
   ]
  },
  {
   "cell_type": "code",
   "execution_count": 46,
   "metadata": {},
   "outputs": [
    {
     "data": {
      "text/html": [
       "<div>\n",
       "<style scoped>\n",
       "    .dataframe tbody tr th:only-of-type {\n",
       "        vertical-align: middle;\n",
       "    }\n",
       "\n",
       "    .dataframe tbody tr th {\n",
       "        vertical-align: top;\n",
       "    }\n",
       "\n",
       "    .dataframe thead th {\n",
       "        text-align: right;\n",
       "    }\n",
       "</style>\n",
       "<table border=\"1\" class=\"dataframe\">\n",
       "  <thead>\n",
       "    <tr style=\"text-align: right;\">\n",
       "      <th></th>\n",
       "      <th>log10_aphy411</th>\n",
       "      <th>log10_aphy443</th>\n",
       "      <th>log10_aphy489</th>\n",
       "      <th>log10_aphy510</th>\n",
       "      <th>log10_aphy555</th>\n",
       "      <th>log10_aphy670</th>\n",
       "    </tr>\n",
       "    <tr>\n",
       "      <th>Row_ID</th>\n",
       "      <th></th>\n",
       "      <th></th>\n",
       "      <th></th>\n",
       "      <th></th>\n",
       "      <th></th>\n",
       "      <th></th>\n",
       "    </tr>\n",
       "  </thead>\n",
       "  <tbody>\n",
       "    <tr>\n",
       "      <th>2</th>\n",
       "      <td>-1.617983</td>\n",
       "      <td>-1.511731</td>\n",
       "      <td>-1.686766</td>\n",
       "      <td>-1.899285</td>\n",
       "      <td>-2.414539</td>\n",
       "      <td>-1.982967</td>\n",
       "    </tr>\n",
       "    <tr>\n",
       "      <th>3</th>\n",
       "      <td>-1.724458</td>\n",
       "      <td>-1.641494</td>\n",
       "      <td>-1.834459</td>\n",
       "      <td>-2.028260</td>\n",
       "      <td>-2.508638</td>\n",
       "      <td>-2.029188</td>\n",
       "    </tr>\n",
       "    <tr>\n",
       "      <th>26</th>\n",
       "      <td>-2.701147</td>\n",
       "      <td>-2.591760</td>\n",
       "      <td>-2.742321</td>\n",
       "      <td>-2.987163</td>\n",
       "      <td>-3.508638</td>\n",
       "      <td>-3.251812</td>\n",
       "    </tr>\n",
       "    <tr>\n",
       "      <th>31</th>\n",
       "      <td>-0.321901</td>\n",
       "      <td>-0.267590</td>\n",
       "      <td>-0.544318</td>\n",
       "      <td>-0.683380</td>\n",
       "      <td>-1.201073</td>\n",
       "      <td>-0.450384</td>\n",
       "    </tr>\n",
       "    <tr>\n",
       "      <th>32</th>\n",
       "      <td>-1.134422</td>\n",
       "      <td>-1.107961</td>\n",
       "      <td>-1.342944</td>\n",
       "      <td>-1.461803</td>\n",
       "      <td>-2.047692</td>\n",
       "      <td>-1.385419</td>\n",
       "    </tr>\n",
       "  </tbody>\n",
       "</table>\n",
       "</div>"
      ],
      "text/plain": [
       "        log10_aphy411  log10_aphy443  log10_aphy489  log10_aphy510  \\\n",
       "Row_ID                                                               \n",
       "2           -1.617983      -1.511731      -1.686766      -1.899285   \n",
       "3           -1.724458      -1.641494      -1.834459      -2.028260   \n",
       "26          -2.701147      -2.591760      -2.742321      -2.987163   \n",
       "31          -0.321901      -0.267590      -0.544318      -0.683380   \n",
       "32          -1.134422      -1.107961      -1.342944      -1.461803   \n",
       "\n",
       "        log10_aphy555  log10_aphy670  \n",
       "Row_ID                                \n",
       "2           -2.414539      -1.982967  \n",
       "3           -2.508638      -2.029188  \n",
       "26          -3.508638      -3.251812  \n",
       "31          -1.201073      -0.450384  \n",
       "32          -2.047692      -1.385419  "
      ]
     },
     "execution_count": 46,
     "metadata": {},
     "output_type": "execute_result"
    }
   ],
   "source": [
    "y_train_log.head()"
   ]
  },
  {
   "cell_type": "markdown",
   "metadata": {},
   "source": [
    "Scaling:"
   ]
  },
  {
   "cell_type": "code",
   "execution_count": 47,
   "metadata": {
    "collapsed": true
   },
   "outputs": [],
   "source": [
    "std_scaler_X = StandardScaler()\n",
    "std_scaler_Y = StandardScaler()"
   ]
  },
  {
   "cell_type": "code",
   "execution_count": 48,
   "metadata": {
    "collapsed": true
   },
   "outputs": [],
   "source": [
    "x_train_s = pd.DataFrame(std_scaler_X.fit_transform(x_train_pca), index=x_train_pca.index,\n",
    "                         columns=[f'{col}_s' for col in x_train_pca.columns])"
   ]
  },
  {
   "cell_type": "code",
   "execution_count": 49,
   "metadata": {
    "collapsed": true
   },
   "outputs": [],
   "source": [
    "x_test_s = pd.DataFrame(std_scaler_X.transform(x_test_pca), index=x_test_pca.index,\n",
    "                        columns=[f'{col}_s' for col in x_test_pca.columns])"
   ]
  },
  {
   "cell_type": "code",
   "execution_count": 50,
   "metadata": {},
   "outputs": [],
   "source": [
    "y_train_s = pd.DataFrame(std_scaler_Y.fit_transform(y_train_log),\n",
    "                         index=y_train_log.index,\n",
    "                         columns=[f'{col}_s' for col in y_train_log.columns])\n",
    "y_test_s = pd.DataFrame(std_scaler_Y.fit_transform(y_test_log),\n",
    "                        index=y_test_log.index,\n",
    "                        columns=[f'{col}_s' for col in y_test_log.columns])"
   ]
  },
  {
   "cell_type": "code",
   "execution_count": 51,
   "metadata": {
    "collapsed": true
   },
   "outputs": [],
   "source": [
    "datadict['x_train_s'] = x_train_s\n",
    "datadict['x_test_s'] = x_test_s\n",
    "datadict['y_train_s'] = y_train_s\n",
    "datadict['y_test_s'] = y_test_s\n",
    "datadict['y_train'] = y_train_log\n",
    "datadict['y_test'] = y_test_log\n",
    "datadict['std_scaler_X'] = std_scaler_X\n",
    "datadict['std_scaler_Y'] = std_scaler_Y"
   ]
  },
  {
   "cell_type": "code",
   "execution_count": 52,
   "metadata": {
    "collapsed": true
   },
   "outputs": [],
   "source": [
    "with open('../PickleJar/DataSets/AphiTrainTestSplitDataSets_4compw_GIOP.pkl', 'wb') as fb:\n",
    "    pickle.dump(datadict, fb)"
   ]
  },
  {
   "cell_type": "code",
   "execution_count": 54,
   "metadata": {
    "collapsed": true
   },
   "outputs": [],
   "source": [
    "import pymc3 as pm"
   ]
  },
  {
   "cell_type": "code",
   "execution_count": null,
   "metadata": {
    "collapsed": true
   },
   "outputs": [],
   "source": [
    "pm.sample_posterior_predictive"
   ]
  }
 ],
 "metadata": {
  "kernelspec": {
   "display_name": "Python [conda env:bayesian_toa_project]",
   "language": "python",
   "name": "conda-env-bayesian_toa_project-py"
  },
  "language_info": {
   "codemirror_mode": {
    "name": "ipython",
    "version": 3
   },
   "file_extension": ".py",
   "mimetype": "text/x-python",
   "name": "python",
   "nbconvert_exporter": "python",
   "pygments_lexer": "ipython3",
   "version": "3.7.1"
  }
 },
 "nbformat": 4,
 "nbformat_minor": 2
}
