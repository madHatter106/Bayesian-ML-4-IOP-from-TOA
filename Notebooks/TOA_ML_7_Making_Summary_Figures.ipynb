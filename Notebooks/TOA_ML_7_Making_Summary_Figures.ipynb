{
 "cells": [
  {
   "cell_type": "code",
   "execution_count": 45,
   "metadata": {},
   "outputs": [],
   "source": [
    "import pickle\n",
    "import re\n",
    "from math import sqrt\n",
    "from warnings import filterwarnings\n",
    "filterwarnings('ignore')\n",
    "from IPython.core.display import HTML, display\n",
    "\n",
    "import numpy as np\n",
    "import pandas as pd\n",
    "\n",
    "from sklearn.metrics import r2_score, mean_absolute_error\n",
    "\n",
    "import matplotlib.pyplot as pl\n",
    "from matplotlib import rcParams\n",
    "from matplotlib.ticker import FuncFormatter\n",
    "from matplotlib import cm\n",
    "import matplotlib.gridspec as GS\n",
    "from seaborn import PairGrid, heatmap, kdeplot, FacetGrid, scatterplot, cubehelix_palette\n",
    "import cmocean.cm as cmo\n",
    "import arviz as az\n",
    "\n",
    "import pymc3 as pm"
   ]
  },
  {
   "cell_type": "code",
   "execution_count": 170,
   "metadata": {},
   "outputs": [],
   "source": [
    "def create_smry(trc, labels, vname=['w']):\n",
    "    ''' Conv fn: create trace summary for sorted forestplot '''\n",
    "    dfsm = pm.summary(trc, varnames=vname)\n",
    "    dfsm.rename(index={wi: lbl for wi, lbl in zip(dfsm.index, feature_labels)},\n",
    "                inplace=True)\n",
    "    #dfsm.sort_values('mean', ascending=True, inplace=True)\n",
    "    dfsm['ypos'] = np.linspace(1, 0, len(dfsm))\n",
    "    return dfsm\n",
    "\n",
    "\n",
    "def custom_forestplot(df, ax, replace_bathy=True):\n",
    "    ax.scatter(x=df['mean'], y=df.ypos, edgecolor='k', facecolor='white', zorder=2)\n",
    "    ax.hlines(df.ypos, xmax=df['hpd_97.5'], xmin=df['hpd_2.5'],\n",
    "              color='k', zorder=1, linewidth=3)\n",
    "    ax.set_yticks(df.ypos)\n",
    "    ax.set_yticklabels(df.index.tolist())\n",
    "    ax.axvline(linestyle=':', color='k')\n",
    "    ax.grid(axis='y', zorder=0)\n",
    "\n",
    "    \n",
    "def plot_pairwise_map(df, ax=None, annot=False):\n",
    "    if ax is None:\n",
    "        _, ax = pl.subplots(figsize=(20, 20))\n",
    "    dfc = df.corr().iloc[1:, :-1]\n",
    "    heatmap(dfc, vmin=-1, vmax=1, cmap=cmo.balance_r, annot=annot, annot_kws={'fontsize': 6},\n",
    "            ax=ax, mask=np.triu(np.ones([dfc.shape[1]]*2), k=1), fmt='.1f',\n",
    "           linewidths=0.5, linecolor='black')\n",
    "    ax.set_facecolor('k')\n",
    "    return ax\n",
    "\n",
    "\n",
    "def plot_obs_against_ppc(y_obs, ppc, ax=None, plot_1_to_1=False,\n",
    "                         add_label=True, **scatter_kwds):\n",
    "    if ax is None:\n",
    "        _, ax = pl.subplots(figsize=(10, 10))\n",
    "    ppc_mean = ppc.mean(axis=0)\n",
    "    mae = mean_absolute_error(y_obs, ppc_mean)\n",
    "    r2 = r2_score(y_obs, ppc_mean)\n",
    "    if add_label:\n",
    "        scatter_lbl = scatter_kwds.pop('label', '')\n",
    "        scatter_lbl = fr'{scatter_lbl}; {r2:.2f}; {mae:.2f}'\n",
    "        ax.scatter(y_obs, ppc_mean, edgecolor='k', label=scatter_lbl, **scatter_kwds)\n",
    "    else:\n",
    "        ax.scatter(y_obs, ppc_mean, edgecolor='k', **scatter_kwds)\n",
    "    if plot_1_to_1:\n",
    "        min_ = min(ppc_mean.min(), y_obs.min())\n",
    "        max_ = max(ppc_mean.max(), y_obs.max())\n",
    "        ax.plot([min_, max_], [min_, max_], ls='--', color='k', label='1:1')\n",
    "    ax.legend(loc='upper left')\n",
    "    return ax\n",
    "\n",
    "\n",
    "def plot_fits_w_estimates(y_obs, ppc, ax=None, legend=False):\n",
    "    \"\"\" Plot Fits with Uncertainty Estimates\"\"\"\n",
    "    iy  = np.argsort(y_obs)\n",
    "    ix = np.arange(iy.size)\n",
    "    lik_mean = ppc.mean(axis=0)\n",
    "    lik_hpd = pm.hpd(ppc)\n",
    "    lik_hpd_05 = pm.hpd(ppc, alpha=0.5)\n",
    "    r2 = r2_score(y_obs, lik_mean)\n",
    "    mae = mean_absolute_error(y_obs, lik_mean)\n",
    "    if ax is None:\n",
    "        _, ax = pl.subplots(figsize=(12, 8))\n",
    "    ax.scatter(ix, y_obs.values[iy], label='observed', edgecolor='k', s=40,\n",
    "               color='w', marker='d', zorder=2);\n",
    "    ax.scatter(ix, lik_mean[iy], label='model mean -- $r^2$=%.2f -- mae=%.2f' %(r2, mae),\n",
    "               edgecolor='k', s=40, color='w', zorder=3)\n",
    "\n",
    "    ax.fill_between(ix, y1=lik_hpd_05[iy, 0], y2=lik_hpd_05[iy, 1], color='gray', \n",
    "                   label='model output 50%CI', zorder=1,linestyle='-', lw=2, edgecolor='k');\n",
    "    ax.fill_between(ix, y1=lik_hpd[iy, 0], y2=lik_hpd[iy, 1], color='k', alpha=0.75,\n",
    "                   label='model output 95%CI', zorder=0, );\n",
    "    if legend:\n",
    "        ax.legend(loc='upper left');\n",
    "    return ax\n",
    "\n",
    "\n",
    "def compute_fig_height(fig_width):\n",
    "    golden_mean = (sqrt(5)-1.0)/2.0    # Aesthetic ratio\n",
    "    return fig_width*golden_mean # height in inches\n",
    "\n",
    "\n",
    "def latexify(fig_width=None, fig_height=None, columns=1, square=False):\n",
    "    \"\"\"Set up matplotlib's RC params for LaTeX plotting.\n",
    "    Call this before plotting a figure.\n",
    "\n",
    "    Parameters\n",
    "    ----------\n",
    "    fig_width : float, optional, inches\n",
    "    fig_height : float,  optional, inches\n",
    "    columns : {1, 2}\n",
    "    PNAS 1-column figure width should be 3.5\"\n",
    "    PNAS 2-column wide figures should be 4.49\" or 7\" (??)\n",
    "    \"\"\"\n",
    "\n",
    "    # code adapted from http://www.scipy.org/Cookbook/Matplotlib/LaTeX_Examples\n",
    "    # Width and max height in inches for IEEE journals taken from\n",
    "    # computer.org/cms/Computer.org/Journal%20templates/transactions_art_guide.pdf\n",
    "    \n",
    "    assert(columns in [1,2])\n",
    "\n",
    "    if fig_width is None:\n",
    "        fig_width = 3.43 if columns==1 else 4.49 # width in inches\n",
    "\n",
    "    if fig_height is None:\n",
    "        if square:\n",
    "            fig_height = fig_width\n",
    "        else:\n",
    "            fig_height =  compute_fig_height(fig_width) # height in inches\n",
    "\n",
    "    MAX_HEIGHT_INCHES = 8.0\n",
    "    if fig_height > MAX_HEIGHT_INCHES:\n",
    "        print(\"WARNING: fig_height too large:\" + fig_height + \n",
    "              \"so will reduce to\" + MAX_HEIGHT_INCHES + \"inches.\")\n",
    "        fig_height = MAX_HEIGHT_INCHES\n",
    "\n",
    "    params = {'backend': 'ps',\n",
    "              'text.latex.preamble': [r'\\usepackage{gensymb}'],\n",
    "              'axes.labelsize': 8, # fontsize for x and y labels (was 10)\n",
    "              'axes.titlesize': 8,\n",
    "              'font.size': 8, # was 10\n",
    "              'legend.fontsize': 8, # was 10\n",
    "              'xtick.labelsize': 8,\n",
    "              'ytick.labelsize': 8,\n",
    "              'text.usetex': True,\n",
    "              'figure.figsize': [fig_width,fig_height],\n",
    "              'font.family': 'serif'\n",
    "    }\n",
    "\n",
    "    rcParams.update(params)"
   ]
  },
  {
   "cell_type": "code",
   "execution_count": 164,
   "metadata": {},
   "outputs": [],
   "source": [
    "\"\"\"hshoe_mdl_dict[m_hshoe_510.model.name] = dict(model=m_hshoe_510.model,\n",
    "                                              trace=m_hshoe_510.trace_,\n",
    "                                              ppc_train=ppc_train_510,\n",
    "                                              ppc_test=ppc_test_510)\n",
    "\"\"\"\n",
    "with open('./pickleJar/HSHOE_MDL_DICT.pkl', 'rb') as fb:\n",
    "    hshoe_mdl_dict = pickle.load(fb)"
   ]
  },
  {
   "cell_type": "code",
   "execution_count": 6,
   "metadata": {},
   "outputs": [],
   "source": [
    "with open('./pickleJar/BNNAphySplitDataSets.pkl', 'rb') as fb:\n",
    "    datadict = pickle.load(fb)\n",
    "X_s_train = datadict['x_train_s']\n",
    "y_train = datadict['y_train']\n",
    "X_s_test = datadict['x_test_s']\n",
    "y_test = datadict['y_test']"
   ]
  },
  {
   "cell_type": "code",
   "execution_count": 7,
   "metadata": {},
   "outputs": [],
   "source": [
    "predictor_renamedict = {'log10_etopo2_s': 'dep',\n",
    "                        'oisst_s': 'sst', 'solz_s': 'solz',\n",
    "                        'PC1_s': 'pc1', 'PC2_s': 'pc2', 'PC3_s': 'pc3',\n",
    "                        'PC4_s': 'pc4', 'PC5_s': 'pc5', 'PC6_s': 'pc6'}"
   ]
  },
  {
   "cell_type": "code",
   "execution_count": 8,
   "metadata": {},
   "outputs": [],
   "source": [
    "X_s_train.rename(columns= predictor_renamedict, inplace=True)"
   ]
  },
  {
   "cell_type": "code",
   "execution_count": 9,
   "metadata": {},
   "outputs": [],
   "source": [
    "X_s_test.rename(columns=predictor_renamedict, inplace=True)"
   ]
  },
  {
   "cell_type": "code",
   "execution_count": 10,
   "metadata": {},
   "outputs": [],
   "source": [
    "y_train.rename(columns={k: k.replace('_', '(') + ')' for k in y_train.columns},\n",
    "              inplace=True)"
   ]
  },
  {
   "cell_type": "code",
   "execution_count": 11,
   "metadata": {},
   "outputs": [],
   "source": [
    "y_test.rename(columns={k: k.replace('_', '(') + ')' for k in y_train.columns},\n",
    "              inplace=True)"
   ]
  },
  {
   "cell_type": "code",
   "execution_count": 12,
   "metadata": {},
   "outputs": [],
   "source": [
    "feature_labels=X_s_train.columns.tolist()"
   ]
  },
  {
   "cell_type": "markdown",
   "metadata": {},
   "source": [
    "HEATMAP"
   ]
  },
  {
   "cell_type": "code",
   "execution_count": 13,
   "metadata": {},
   "outputs": [
    {
     "data": {
      "image/png": "[encoded data removed]",
      "text/plain": [
       "<Figure size 432x288 with 2 Axes>"
      ]
     },
     "metadata": {},
     "output_type": "display_data"
    }
   ],
   "source": [
    "#latexify(fig_height=3.4)\n",
    "f, ax = pl.subplots()\n",
    "ax = PlotHeatMap(pd.concat((X_s_train, y_train), axis=1), ax=ax,)\n",
    "f.tight_layout()\n",
    "f.savefig('./figJar/aphy_heatmap.pdf')"
   ]
  },
  {
   "cell_type": "markdown",
   "metadata": {},
   "source": [
    "FORESTPLOTS"
   ]
  },
  {
   "cell_type": "code",
   "execution_count": 14,
   "metadata": {},
   "outputs": [],
   "source": [
    "dfs_411 = create_smry(hshoe_mdl_dict['hshoe_aphy411']['trace'], feature_labels)\n",
    "dfs_510 = create_smry(hshoe_mdl_dict['hshoe_aphy510']['trace'], feature_labels)\n",
    "dfs_670 = create_smry(hshoe_mdl_dict['hshoe_aphy670']['trace'], feature_labels)"
   ]
  },
  {
   "cell_type": "code",
   "execution_count": 15,
   "metadata": {},
   "outputs": [
    {
     "data": {
      "text/html": [
       "<div>\n",
       "<style scoped>\n",
       "    .dataframe tbody tr th:only-of-type {\n",
       "        vertical-align: middle;\n",
       "    }\n",
       "\n",
       "    .dataframe tbody tr th {\n",
       "        vertical-align: top;\n",
       "    }\n",
       "\n",
       "    .dataframe thead th {\n",
       "        text-align: right;\n",
       "    }\n",
       "</style>\n",
       "<table border=\"1\" class=\"dataframe\">\n",
       "  <thead>\n",
       "    <tr style=\"text-align: right;\">\n",
       "      <th></th>\n",
       "      <th>mean</th>\n",
       "      <th>sd</th>\n",
       "      <th>mc_error</th>\n",
       "      <th>hpd_2.5</th>\n",
       "      <th>hpd_97.5</th>\n",
       "      <th>n_eff</th>\n",
       "      <th>Rhat</th>\n",
       "      <th>ypos</th>\n",
       "    </tr>\n",
       "  </thead>\n",
       "  <tbody>\n",
       "    <tr>\n",
       "      <th>dep</th>\n",
       "      <td>-0.112370</td>\n",
       "      <td>0.025256</td>\n",
       "      <td>0.000399</td>\n",
       "      <td>-0.162076</td>\n",
       "      <td>-0.062002</td>\n",
       "      <td>4324.501990</td>\n",
       "      <td>1.000079</td>\n",
       "      <td>1.000</td>\n",
       "    </tr>\n",
       "    <tr>\n",
       "      <th>sst</th>\n",
       "      <td>-0.115680</td>\n",
       "      <td>0.025130</td>\n",
       "      <td>0.000375</td>\n",
       "      <td>-0.165954</td>\n",
       "      <td>-0.067985</td>\n",
       "      <td>4620.639593</td>\n",
       "      <td>0.999994</td>\n",
       "      <td>0.875</td>\n",
       "    </tr>\n",
       "    <tr>\n",
       "      <th>solz</th>\n",
       "      <td>0.048777</td>\n",
       "      <td>0.027500</td>\n",
       "      <td>0.000404</td>\n",
       "      <td>-0.003446</td>\n",
       "      <td>0.102845</td>\n",
       "      <td>3816.939242</td>\n",
       "      <td>0.999932</td>\n",
       "      <td>0.750</td>\n",
       "    </tr>\n",
       "    <tr>\n",
       "      <th>pc1</th>\n",
       "      <td>-0.226821</td>\n",
       "      <td>0.024161</td>\n",
       "      <td>0.000392</td>\n",
       "      <td>-0.272527</td>\n",
       "      <td>-0.176619</td>\n",
       "      <td>4034.419000</td>\n",
       "      <td>0.999785</td>\n",
       "      <td>0.625</td>\n",
       "    </tr>\n",
       "    <tr>\n",
       "      <th>pc2</th>\n",
       "      <td>-0.147247</td>\n",
       "      <td>0.024301</td>\n",
       "      <td>0.000388</td>\n",
       "      <td>-0.193531</td>\n",
       "      <td>-0.099400</td>\n",
       "      <td>3604.016826</td>\n",
       "      <td>0.999787</td>\n",
       "      <td>0.500</td>\n",
       "    </tr>\n",
       "    <tr>\n",
       "      <th>pc3</th>\n",
       "      <td>0.057794</td>\n",
       "      <td>0.019048</td>\n",
       "      <td>0.000228</td>\n",
       "      <td>0.020921</td>\n",
       "      <td>0.095516</td>\n",
       "      <td>6786.710712</td>\n",
       "      <td>0.999873</td>\n",
       "      <td>0.375</td>\n",
       "    </tr>\n",
       "    <tr>\n",
       "      <th>pc4</th>\n",
       "      <td>-0.035288</td>\n",
       "      <td>0.019652</td>\n",
       "      <td>0.000232</td>\n",
       "      <td>-0.072422</td>\n",
       "      <td>0.003546</td>\n",
       "      <td>5738.412490</td>\n",
       "      <td>0.999812</td>\n",
       "      <td>0.250</td>\n",
       "    </tr>\n",
       "    <tr>\n",
       "      <th>pc5</th>\n",
       "      <td>0.035664</td>\n",
       "      <td>0.023217</td>\n",
       "      <td>0.000355</td>\n",
       "      <td>-0.009293</td>\n",
       "      <td>0.081219</td>\n",
       "      <td>4175.971229</td>\n",
       "      <td>0.999963</td>\n",
       "      <td>0.125</td>\n",
       "    </tr>\n",
       "    <tr>\n",
       "      <th>pc6</th>\n",
       "      <td>0.007262</td>\n",
       "      <td>0.017428</td>\n",
       "      <td>0.000210</td>\n",
       "      <td>-0.027652</td>\n",
       "      <td>0.040816</td>\n",
       "      <td>6789.464688</td>\n",
       "      <td>0.999851</td>\n",
       "      <td>0.000</td>\n",
       "    </tr>\n",
       "  </tbody>\n",
       "</table>\n",
       "</div>"
      ],
      "text/plain": [
       "          mean        sd  mc_error   hpd_2.5  hpd_97.5        n_eff      Rhat  \\\n",
       "dep  -0.112370  0.025256  0.000399 -0.162076 -0.062002  4324.501990  1.000079   \n",
       "sst  -0.115680  0.025130  0.000375 -0.165954 -0.067985  4620.639593  0.999994   \n",
       "solz  0.048777  0.027500  0.000404 -0.003446  0.102845  3816.939242  0.999932   \n",
       "pc1  -0.226821  0.024161  0.000392 -0.272527 -0.176619  4034.419000  0.999785   \n",
       "pc2  -0.147247  0.024301  0.000388 -0.193531 -0.099400  3604.016826  0.999787   \n",
       "pc3   0.057794  0.019048  0.000228  0.020921  0.095516  6786.710712  0.999873   \n",
       "pc4  -0.035288  0.019652  0.000232 -0.072422  0.003546  5738.412490  0.999812   \n",
       "pc5   0.035664  0.023217  0.000355 -0.009293  0.081219  4175.971229  0.999963   \n",
       "pc6   0.007262  0.017428  0.000210 -0.027652  0.040816  6789.464688  0.999851   \n",
       "\n",
       "       ypos  \n",
       "dep   1.000  \n",
       "sst   0.875  \n",
       "solz  0.750  \n",
       "pc1   0.625  \n",
       "pc2   0.500  \n",
       "pc3   0.375  \n",
       "pc4   0.250  \n",
       "pc5   0.125  \n",
       "pc6   0.000  "
      ]
     },
     "execution_count": 15,
     "metadata": {},
     "output_type": "execute_result"
    }
   ],
   "source": [
    "dfs_411"
   ]
  },
  {
   "cell_type": "code",
   "execution_count": 171,
   "metadata": {},
   "outputs": [
    {
     "data": {
      "image/png": "[encoded data removed]",
      "text/plain": [
       "<Figure size 246.96x152.63 with 3 Axes>"
      ]
     },
     "metadata": {},
     "output_type": "display_data"
    }
   ],
   "source": [
    "latexify()\n",
    "f, axs = pl.subplots(ncols=3, sharey=True,)\n",
    "custom_forestplot(dfs_411, ax=axs[0])\n",
    "custom_forestplot(dfs_510, ax=axs[1])\n",
    "custom_forestplot(dfs_670, ax=axs[2])\n",
    "f.tight_layout()\n",
    "f.savefig('./figJar/HSReg_forest_test.pdf')"
   ]
  },
  {
   "cell_type": "markdown",
   "metadata": {},
   "source": [
    "\n",
    "SCATTERPLOTS"
   ]
  },
  {
   "cell_type": "code",
   "execution_count": 21,
   "metadata": {},
   "outputs": [
    {
     "data": {
      "text/plain": [
       "dict_keys(['hshoe_aphy411', 'hshoe_aphy443', 'hshoe_aphy489', 'hshoe_aphy510', 'hshoe_aphy555', 'hshoe_aphy670'])"
      ]
     },
     "execution_count": 21,
     "metadata": {},
     "output_type": "execute_result"
    }
   ],
   "source": [
    "hshoe_mdl_dict.keys()"
   ]
  },
  {
   "cell_type": "code",
   "execution_count": 24,
   "metadata": {},
   "outputs": [],
   "source": [
    "bands = [411, 443, 489, 510, 555, 670]\n",
    "ppc_test_dict = {l: hshoe_mdl_dict['hshoe_aphy%d' %l]['ppc_test'] for l in bands}"
   ]
  },
  {
   "cell_type": "code",
   "execution_count": 65,
   "metadata": {},
   "outputs": [],
   "source": [
    "cmap=cubehelix_palette(n_colors=6, as_cmap=True)"
   ]
  },
  {
   "cell_type": "code",
   "execution_count": 67,
   "metadata": {},
   "outputs": [
    {
     "data": {
      "text/plain": [
       "array([0.93126922, 0.82019218, 0.7971481 , 1.        ])"
      ]
     },
     "execution_count": 67,
     "metadata": {},
     "output_type": "execute_result"
    }
   ],
   "source": [
    "cmap.colors[0]"
   ]
  },
  {
   "cell_type": "code",
   "execution_count": 92,
   "metadata": {},
   "outputs": [],
   "source": [
    "from matplotlib.colors import Normalize\n",
    "cmap = cm.get_cmap('gist_yarg')\n",
    "normalize = Normalize(vmin=min(bands), vmax=max(bands))\n",
    "colors = [cmap(normalize(value)) for value in bands]"
   ]
  },
  {
   "cell_type": "code",
   "execution_count": 161,
   "metadata": {
    "scrolled": false
   },
   "outputs": [
    {
     "name": "stderr",
     "output_type": "stream",
     "text": [
      "'c' argument looks like a single numeric RGB or RGBA sequence, which should be avoided as value-mapping will have precedence in case its length matches with 'x' & 'y'.  Please use a 2-D array with a single row if you really want to specify the same RGB or RGBA value for all points.\n",
      "'c' argument looks like a single numeric RGB or RGBA sequence, which should be avoided as value-mapping will have precedence in case its length matches with 'x' & 'y'.  Please use a 2-D array with a single row if you really want to specify the same RGB or RGBA value for all points.\n",
      "'c' argument looks like a single numeric RGB or RGBA sequence, which should be avoided as value-mapping will have precedence in case its length matches with 'x' & 'y'.  Please use a 2-D array with a single row if you really want to specify the same RGB or RGBA value for all points.\n",
      "'c' argument looks like a single numeric RGB or RGBA sequence, which should be avoided as value-mapping will have precedence in case its length matches with 'x' & 'y'.  Please use a 2-D array with a single row if you really want to specify the same RGB or RGBA value for all points.\n",
      "'c' argument looks like a single numeric RGB or RGBA sequence, which should be avoided as value-mapping will have precedence in case its length matches with 'x' & 'y'.  Please use a 2-D array with a single row if you really want to specify the same RGB or RGBA value for all points.\n",
      "'c' argument looks like a single numeric RGB or RGBA sequence, which should be avoided as value-mapping will have precedence in case its length matches with 'x' & 'y'.  Please use a 2-D array with a single row if you really want to specify the same RGB or RGBA value for all points.\n"
     ]
    },
    {
     "data": {
      "image/png": "[encoded data removed]",
      "text/plain": [
       "<Figure size 246.96x246.96 with 1 Axes>"
      ]
     },
     "metadata": {},
     "output_type": "display_data"
    }
   ],
   "source": [
    "latexify(square=True)\n",
    "cmap=cubehelix_palette(n_colors=6, as_cmap=True)\n",
    "f, ax_ = pl.subplots()\n",
    "for i, band in enumerate(bands):\n",
    "    plot_obs_against_ppc(y_test['log10_aphy%d' %band], ppc_test_dict[band],\n",
    "                         s=40, ax=ax_, c=colors[i], label='%d' % band\n",
    "                         #label=r'$a\\phi%d \\rightarrow$' % band,\n",
    "                        ) \n",
    "    #plot_obs_against_ppc(y_test.log10_aphy443, ppc_test_443, s=75,\n",
    "    #                     color='steelblue', ax=ax_, label=r'$a\\phi443 \\rightarrow$', \n",
    "    #                    )\n",
    "    #plot_obs_against_ppc(y_test.log10_aphy489, ppc_test_489, s=75,\n",
    "    #                     color='cyan', ax=ax_, label=r'$a\\phi489 \\rightarrow$', )\n",
    "    #plot_obs_against_ppc(y_test.log10_aphy510, ppc_test_510, s=75,\n",
    "    #                     color='orange', ax=ax_, label=r'$a\\phi510 \\rightarrow$')\n",
    "    #plot_obs_against_ppc(y_test.log10_aphy555, ppc_test_555, s=75, \n",
    "    #                     color='brown', ax=ax_, label=r'$a\\phi555 \\rightarrow$')\n",
    "    #plot_obs_against_ppc(y_test.log10_aphy670, ppc_test_670, s=75,\n",
    "    #                     color='red', ax=ax_, label=r'$a\\phi670 \\rightarrow$')\n",
    "ax_.plot([-3.4, -1], [-3.4, -1], color='k', ls='--')\n",
    "ax_.legend(title=r'a$\\phi$ band; r$^2$; mae', fontsize=7, loc='upper left',\n",
    "   frameon=False, markerscale=0.7, markerfirst=True)\n",
    "ax_.set_xlabel('model output mean')\n",
    "ax_.set_ylabel('observed')\n",
    "f.tight_layout()\n",
    "f.savefig('./figJar/HorseShoePrior_aphi_test_sets_scatter.pdf', format='pdf', dpi=300)"
   ]
  },
  {
   "cell_type": "markdown",
   "metadata": {},
   "source": [
    "## PPCPLOTS"
   ]
  },
  {
   "cell_type": "code",
   "execution_count": 185,
   "metadata": {},
   "outputs": [
    {
     "data": {
      "image/png": "[encoded data removed]",
      "text/plain": [
       "<Figure size 246.96x360 with 3 Axes>"
      ]
     },
     "metadata": {},
     "output_type": "display_data"
    }
   ],
   "source": [
    "latexify(fig_height=5, )\n",
    "f, ax = pl.subplots(nrows=3, sharex=True)\n",
    "for axi, band in zip(ax, [411, 510, 670]):\n",
    "    plot_fits_w_estimates(y_obs=y_test['log10_aphy%d' % band],\n",
    "                          ppc=ppc_test_dict[band], ax=axi)\n",
    "    axi.set_ylabel(r'$a\\phi(%d)$' % band)\n",
    "axi.set_xlabel(r'observation \\#');\n",
    "f.tight_layout()\n",
    "f.savefig('./figJar/HorseShoePrior_aphi_test_sets_HDI.pdf')"
   ]
  },
  {
   "cell_type": "markdown",
   "metadata": {},
   "source": [
    "### MODEL PLATE"
   ]
  },
  {
   "cell_type": "code",
   "execution_count": 172,
   "metadata": {},
   "outputs": [],
   "source": [
    "with open('./pickleJar/Hshoe_example_model.pkl', 'rb') as fb:\n",
    "    mhsoe_mdl = pickle.load(fb)"
   ]
  },
  {
   "cell_type": "code",
   "execution_count": 174,
   "metadata": {},
   "outputs": [
    {
     "data": {
      "text/plain": [
       "'3.6'"
      ]
     },
     "execution_count": 174,
     "metadata": {},
     "output_type": "execute_result"
    }
   ],
   "source": []
  },
  {
   "cell_type": "code",
   "execution_count": null,
   "metadata": {},
   "outputs": [],
   "source": []
  }
 ],
 "metadata": {
  "kernelspec": {
   "display_name": "Python 3",
   "language": "python",
   "name": "python3"
  },
  "language_info": {
   "codemirror_mode": {
    "name": "ipython",
    "version": 3
   },
   "file_extension": ".py",
   "mimetype": "text/x-python",
   "name": "python",
   "nbconvert_exporter": "python",
   "pygments_lexer": "ipython3",
   "version": "3.6.8"
  }
 },
 "nbformat": 4,
 "nbformat_minor": 2
}
