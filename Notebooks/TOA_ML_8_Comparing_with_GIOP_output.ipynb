{
 "cells": [
  {
   "cell_type": "markdown",
   "metadata": {},
   "source": [
    "In this notebook, I re-split the dataset. The idea is that the inputs to the original test set was not adequate as input to the GIOP model. For this reason, we randomly subsetted 15 data points that would work both as the test set of the ML algorithms discussed here, and as input to the GIOP model. I then remove the corresponding 15 rows from the whole TOA reflectance set, the remaining data now constitutes a new training set."
   ]
  },
  {
   "cell_type": "code",
   "execution_count": 11,
   "metadata": {},
   "outputs": [],
   "source": [
    "import pickle\n",
    "\n",
    "import pandas as pd\n",
    "import numpy as np\n",
    "import seaborn as sb\n",
    "import matplotlib.pyplot as pl"
   ]
  },
  {
   "cell_type": "code",
   "execution_count": 4,
   "metadata": {},
   "outputs": [],
   "source": [
    "pl.style.use('bmh')"
   ]
  },
  {
   "cell_type": "code",
   "execution_count": 9,
   "metadata": {},
   "outputs": [],
   "source": [
    "df_giop_test_set = pd.read_pickle('../PickleJar/DataSets/df_new_test_set.pkl')"
   ]
  },
  {
   "cell_type": "code",
   "execution_count": 12,
   "metadata": {},
   "outputs": [],
   "source": [
    "with open('../PickleJar/DataSets/AphiTrainTestSplitDataSets.pkl', 'rb') as fb:\n",
    "    datadict = pickle.load(fb)"
   ]
  },
  {
   "cell_type": "code",
   "execution_count": null,
   "metadata": {},
   "outputs": [],
   "source": [
    "x_"
   ]
  },
  {
   "cell_type": "code",
   "execution_count": 7,
   "metadata": {},
   "outputs": [
    {
     "name": "stdout",
     "output_type": "stream",
     "text": [
      "<class 'pandas.core.frame.DataFrame'>\n",
      "UInt64Index: 15 entries, 309 to 274\n",
      "Data columns (total 51 columns):\n",
      "rrs_412     15 non-null float64\n",
      "rrs_443     15 non-null float64\n",
      "rrs_490     15 non-null float64\n",
      "rrs_510     15 non-null float64\n",
      "rrs_555     15 non-null float64\n",
      "rrs_670     15 non-null float64\n",
      "apg_412     15 non-null float64\n",
      "apg_443     15 non-null float64\n",
      "apg_490     15 non-null float64\n",
      "apg_510     15 non-null float64\n",
      "apg_555     15 non-null float64\n",
      "apg_670     15 non-null float64\n",
      "adg_412     15 non-null float64\n",
      "adg_443     15 non-null float64\n",
      "adg_490     15 non-null float64\n",
      "adg_510     15 non-null float64\n",
      "adg_555     15 non-null float64\n",
      "adg_670     15 non-null float64\n",
      "bbp_412     15 non-null float64\n",
      "bbp_443     15 non-null float64\n",
      "bbp_490     15 non-null float64\n",
      "bbp_510     15 non-null float64\n",
      "bbp_555     15 non-null float64\n",
      "bbp_670     15 non-null float64\n",
      "mrrs_412    15 non-null float64\n",
      "mrrs_443    15 non-null float64\n",
      "mrrs_490    15 non-null float64\n",
      "mrrs_510    15 non-null float64\n",
      "mrrs_555    15 non-null float64\n",
      "mrrs_670    15 non-null float64\n",
      "aw_412      15 non-null float64\n",
      "aw_443      15 non-null float64\n",
      "aw_490      15 non-null float64\n",
      "aw_510      15 non-null float64\n",
      "aw_555      15 non-null float64\n",
      "aw_670      15 non-null float64\n",
      "bw_412      15 non-null float64\n",
      "bw_443      15 non-null float64\n",
      "bw_490      15 non-null float64\n",
      "bw_510      15 non-null float64\n",
      "bw_555      15 non-null float64\n",
      "bw_670      15 non-null float64\n",
      "qc          15 non-null float64\n",
      "inv         15 non-null object\n",
      "t1_0        15 non-null float64\n",
      "t1_1        15 non-null float64\n",
      "t1_2        15 non-null float64\n",
      "x_0         15 non-null float64\n",
      "x_1         15 non-null float64\n",
      "x_2         15 non-null float64\n",
      "oc          15 non-null float64\n",
      "dtypes: float64(50), object(1)\n",
      "memory usage: 6.1+ KB\n"
     ]
    }
   ],
   "source": [
    "df_giop_test_set.info()"
   ]
  },
  {
   "cell_type": "code",
   "execution_count": null,
   "metadata": {},
   "outputs": [],
   "source": []
  }
 ],
 "metadata": {
  "kernelspec": {
   "display_name": "Python [conda env:bayesian_toa_project]",
   "language": "python",
   "name": "conda-env-bayesian_toa_project-py"
  },
  "language_info": {
   "codemirror_mode": {
    "name": "ipython",
    "version": 3
   },
   "file_extension": ".py",
   "mimetype": "text/x-python",
   "name": "python",
   "nbconvert_exporter": "python",
   "pygments_lexer": "ipython3",
   "version": "3.7.3"
  }
 },
 "nbformat": 4,
 "nbformat_minor": 2
}
