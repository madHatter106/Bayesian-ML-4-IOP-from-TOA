{
 "cells": [
  {
   "cell_type": "markdown",
   "metadata": {
    "slideshow": {
     "slide_type": "slide"
    }
   },
   "source": [
    "### Watanabe-Akaike Information Criterion (WAIC)\n",
    "\n",
    "* AKA Widely Available IC\n",
    "* meaningless for a single model, used for model\n",
    "    * evaluation & comparison\n",
    "    * selection\n",
    "    * ensemble averaging\n",
    "* related to Kullback-Leibler divergence\n",
    "* measure of distance of computed posterior distribution from \"true distribution\"\n",
    "* requires probability distribution for each prediction"
   ]
  },
  {
   "cell_type": "code",
   "execution_count": 40,
   "metadata": {
    "slideshow": {
     "slide_type": "skip"
    }
   },
   "outputs": [],
   "source": [
    "import pathlib\n",
    "import warnings\n",
    "import matplotlib.pyplot as pl"
   ]
  },
  {
   "cell_type": "code",
   "execution_count": 41,
   "metadata": {
    "slideshow": {
     "slide_type": "skip"
    }
   },
   "outputs": [],
   "source": [
    "warnings.filterwarnings('ignore')\n",
    "vz.style.use('arviz-darkgrid')"
   ]
  },
  {
   "cell_type": "code",
   "execution_count": 3,
   "metadata": {
    "slideshow": {
     "slide_type": "skip"
    }
   },
   "outputs": [],
   "source": [
    "nc_path = pathlib.Path('../PickleJar/Results/nc_inference/')\n",
    "nc_files = list(nc_path.glob('*.nc'))"
   ]
  },
  {
   "cell_type": "code",
   "execution_count": 4,
   "metadata": {
    "slideshow": {
     "slide_type": "skip"
    }
   },
   "outputs": [
    {
     "data": {
      "text/plain": [
       "[PosixPath('../PickleJar/Results/NC_files/hswi_inference.nc'),\n",
       " PosixPath('../PickleJar/Results/NC_files/hs_inference.nc'),\n",
       " PosixPath('../PickleJar/Results/NC_files/hs_inference_w_ppc.nc'),\n",
       " PosixPath('../PickleJar/Results/NC_files/bn_inference_w_ppc.nc'),\n",
       " PosixPath('../PickleJar/Results/NC_files/hswi_inference_w_ppc.nc'),\n",
       " PosixPath('../PickleJar/Results/NC_files/bn_inference.nc')]"
      ]
     },
     "execution_count": 4,
     "metadata": {},
     "output_type": "execute_result"
    }
   ],
   "source": [
    "nc_files"
   ]
  },
  {
   "cell_type": "code",
   "execution_count": 5,
   "metadata": {
    "slideshow": {
     "slide_type": "subslide"
    }
   },
   "outputs": [],
   "source": [
    "import arviz as vz\n",
    "hs_inference = vz.from_netcdf(nc_path / 'hs_inference_w_ppc.nc')\n",
    "hswi_inference = vz.from_netcdf(nc_path / 'hswi_inference_w_ppc.nc')\n",
    "bnn_inference = vz.from_netcdf(nc_path / 'bn_inference_w_ppc.nc')"
   ]
  },
  {
   "cell_type": "code",
   "execution_count": 42,
   "metadata": {
    "slideshow": {
     "slide_type": "subslide"
    }
   },
   "outputs": [],
   "source": [
    "df_compare = vz.compare(dict(horseshoe=hs_inference,\n",
    "                             hshoe_wi=hswi_inference,\n",
    "                             BNN=bnn_inference));"
   ]
  },
  {
   "cell_type": "code",
   "execution_count": 43,
   "metadata": {
    "slideshow": {
     "slide_type": "subslide"
    }
   },
   "outputs": [
    {
     "data": {
      "text/html": [
       "<div>\n",
       "<style scoped>\n",
       "    .dataframe tbody tr th:only-of-type {\n",
       "        vertical-align: middle;\n",
       "    }\n",
       "\n",
       "    .dataframe tbody tr th {\n",
       "        vertical-align: top;\n",
       "    }\n",
       "\n",
       "    .dataframe thead th {\n",
       "        text-align: right;\n",
       "    }\n",
       "</style>\n",
       "<table border=\"1\" class=\"dataframe\">\n",
       "  <thead>\n",
       "    <tr style=\"text-align: right;\">\n",
       "      <th></th>\n",
       "      <th>waic</th>\n",
       "      <th>p_waic</th>\n",
       "      <th>d_waic</th>\n",
       "      <th>weight</th>\n",
       "      <th>se</th>\n",
       "      <th>dse</th>\n",
       "      <th>warning</th>\n",
       "      <th>waic_scale</th>\n",
       "    </tr>\n",
       "  </thead>\n",
       "  <tbody>\n",
       "    <tr>\n",
       "      <th>bayesnet</th>\n",
       "      <td>-150.397</td>\n",
       "      <td>24.706</td>\n",
       "      <td>0</td>\n",
       "      <td>1</td>\n",
       "      <td>15.1036</td>\n",
       "      <td>0</td>\n",
       "      <td>True</td>\n",
       "      <td>deviance</td>\n",
       "    </tr>\n",
       "    <tr>\n",
       "      <th>hshoe_wi</th>\n",
       "      <td>-70.8816</td>\n",
       "      <td>32.5505</td>\n",
       "      <td>79.5151</td>\n",
       "      <td>4.28251e-08</td>\n",
       "      <td>18.0505</td>\n",
       "      <td>14.0948</td>\n",
       "      <td>True</td>\n",
       "      <td>deviance</td>\n",
       "    </tr>\n",
       "    <tr>\n",
       "      <th>horseshoe</th>\n",
       "      <td>-26.2162</td>\n",
       "      <td>9.67634</td>\n",
       "      <td>124.181</td>\n",
       "      <td>2.7828e-11</td>\n",
       "      <td>19.8647</td>\n",
       "      <td>16.517</td>\n",
       "      <td>True</td>\n",
       "      <td>deviance</td>\n",
       "    </tr>\n",
       "  </tbody>\n",
       "</table>\n",
       "</div>"
      ],
      "text/plain": [
       "              waic   p_waic   d_waic       weight       se      dse warning  \\\n",
       "bayesnet  -150.397   24.706        0            1  15.1036        0    True   \n",
       "hshoe_wi  -70.8816  32.5505  79.5151  4.28251e-08  18.0505  14.0948    True   \n",
       "horseshoe -26.2162  9.67634  124.181   2.7828e-11  19.8647   16.517    True   \n",
       "\n",
       "          waic_scale  \n",
       "bayesnet    deviance  \n",
       "hshoe_wi    deviance  \n",
       "horseshoe   deviance  "
      ]
     },
     "execution_count": 43,
     "metadata": {},
     "output_type": "execute_result"
    }
   ],
   "source": [
    "df_compare"
   ]
  },
  {
   "cell_type": "code",
   "execution_count": 56,
   "metadata": {
    "slideshow": {
     "slide_type": "skip"
    }
   },
   "outputs": [
    {
     "data": {
      "image/png": "[encoded data removed]",
      "text/plain": [
       "<Figure size 900x500 with 1 Axes>"
      ]
     },
     "metadata": {},
     "output_type": "display_data"
    }
   ],
   "source": [
    "f, ax = pl.subplots(figsize=(9, 5))\n",
    "vz.plot_compare(df_compare, ax=ax, plot_ic_diff=False)\n",
    "ax.legend(['IS dev.', 'best model', 'OS dev. (waic) + SE'])\n",
    "f.savefig('../FigJar/waic_comp.png', dpi=300)"
   ]
  },
  {
   "cell_type": "markdown",
   "metadata": {
    "slideshow": {
     "slide_type": "subslide"
    }
   },
   "source": [
    "<img src='../FigJar/waic_comp.png?:2'>"
   ]
  },
  {
   "cell_type": "code",
   "execution_count": null,
   "metadata": {
    "slideshow": {
     "slide_type": "skip"
    }
   },
   "outputs": [],
   "source": [
    "home = pathlib.Path.home()\n",
    "root = home / 'DEV-ALL/BAYES/rethinking_2ndEd/rethinking-Experimental/data'"
   ]
  },
  {
   "cell_type": "markdown",
   "metadata": {
    "slideshow": {
     "slide_type": "slide"
    }
   },
   "source": [
    "### Computing WAIC\n",
    "* Two parts: \n",
    "* Log Pointwise Predictive Density ($lppd$): <br>\n",
    "$\\ \\ \\ \\rightarrow$ sum of log probability score, for each obs. $i$\n",
    "<br>\n",
    "$\\ \\ \\ \\rightarrow lppd(y, \\Theta) = \\sum_i log \\frac{1}{S} \\sum_s p(y_i|\\Theta_s)$;  $s$ is posterior sample\n",
    "* $lppd$ not enough$\\rightarrow$ like $R^2$, increases with model complexity\n",
    " \n",
    "* Penalty term ($p\\_waic$); estimate of overfitting tendency:<br>\n",
    "$\\ \\ \\ \\rightarrow$ sum of variance in log probability for each obs. $i$ <br>\n",
    "$\\ \\ \\ \\rightarrow \\sum_i var_\\Theta(log(p(y_i|\\Theta)))$\n",
    "<br>\n",
    "* $WAIC(y, \\Theta) = -2(lppd - p\\_waic)$"
   ]
  },
  {
   "cell_type": "code",
   "execution_count": null,
   "metadata": {
    "slideshow": {
     "slide_type": "skip"
    }
   },
   "outputs": [],
   "source": [
    "import pandas as pd\n",
    "df = pd.read_csv(root / 'cars.csv')\n",
    "X = df.speed.values\n",
    "Y = df.dist.values "
   ]
  },
  {
   "cell_type": "code",
   "execution_count": 9,
   "metadata": {
    "slideshow": {
     "slide_type": "subslide"
    }
   },
   "outputs": [
    {
     "name": "stderr",
     "output_type": "stream",
     "text": [
      "Auto-assigning NUTS sampler...\n",
      "Initializing NUTS using jitter+adapt_diag...\n",
      "Multiprocess sampling (4 chains in 4 jobs)\n",
      "NUTS: [σ, β, α]\n",
      "Sampling 4 chains: 100%|██████████| 8800/8800 [00:03<00:00, 2855.44draws/s]\n"
     ]
    }
   ],
   "source": [
    "import pymc3 as pm\n",
    "with pm.Model() as m:\n",
    "    α = pm.Normal('α', 0, 100)\n",
    "    β = pm.Normal('β', 0, 10)\n",
    "    σ = pm.Uniform('σ', 0, 30)\n",
    "    μ = α + β * X\n",
    "    dist = pm.Normal('dist', mu=μ, sd=σ, observed=Y)\n",
    "    post = pm.sample(1000, tune=1200, random_seed=42)"
   ]
  },
  {
   "cell_type": "code",
   "execution_count": 10,
   "metadata": {
    "slideshow": {
     "slide_type": "skip"
    }
   },
   "outputs": [],
   "source": [
    "render = pm.model_to_graphviz(m)\n",
    "render.format = 'png'\n",
    "render.render('simple_model', directory='./');"
   ]
  },
  {
   "cell_type": "markdown",
   "metadata": {
    "slideshow": {
     "slide_type": "subslide"
    }
   },
   "source": [
    "<center><img src='./simple_model.png' /></center>"
   ]
  },
  {
   "cell_type": "code",
   "execution_count": 38,
   "metadata": {
    "slideshow": {
     "slide_type": "subslide"
    }
   },
   "outputs": [],
   "source": [
    "from scipy.special import logsumexp\n",
    "import scipy.stats as stats\n",
    "import numpy as np\n",
    "np.random.RandomState(42)\n",
    "\n",
    "# get posterior prediction of mean regression\n",
    "μ_post = post['α'].reshape(1, -1) \\\n",
    "         + post['β'].reshape(1, -1) \\\n",
    "         * X.reshape(-1, 1)\n",
    "# get \"s\", number of samples\n",
    "n_samples = μ_post.shape[1]\n",
    "# sample from log_likelihood\n",
    "log_likelihood = stats.norm.logpdf(Y.reshape(-1, 1),\n",
    "                       loc=μ_post, \n",
    "                       scale=post['σ'].reshape(1, -1))\n",
    "# compute lppd\n",
    "lppd = logsumexp(log_likelihood, axis=1) - np.log(n_samples)\n",
    "# compute p_waic\n",
    "my_p_waic = np.var(log_likelihood, axis=1)\n",
    "# compute waic\n",
    "my_waic = -2 * (lppd.sum() - my_p_waic.sum())\n",
    "# \"black box waic\"\n",
    "waic = vz.waic(post, );"
   ]
  },
  {
   "cell_type": "code",
   "execution_count": 39,
   "metadata": {
    "slideshow": {
     "slide_type": "subslide"
    }
   },
   "outputs": [],
   "source": [
    "np.testing.assert_almost_equal(waic.waic, my_waic, decimal=10)\n",
    "np.testing.assert_almost_equal(waic.p_waic, my_p_waic.sum(), decimal=10)"
   ]
  }
 ],
 "metadata": {
  "celltoolbar": "Slideshow",
  "kernelspec": {
   "display_name": "Python 3",
   "language": "python",
   "name": "python3"
  },
  "language_info": {
   "codemirror_mode": {
    "name": "ipython",
    "version": 3
   },
   "file_extension": ".py",
   "mimetype": "text/x-python",
   "name": "python",
   "nbconvert_exporter": "python",
   "pygments_lexer": "ipython3",
   "version": "3.6.5"
  }
 },
 "nbformat": 4,
 "nbformat_minor": 2
}
