{
 "cells": [
  {
   "cell_type": "code",
   "execution_count": 1,
   "metadata": {},
   "outputs": [
    {
     "name": "stderr",
     "output_type": "stream",
     "text": [
      "WARNING (theano.configdefaults): install mkl with `conda install mkl-service`: No module named 'mkl'\n"
     ]
    }
   ],
   "source": [
    "import pickle\n",
    "from copy import deepcopy\n",
    "from datetime import datetime as DT\n",
    "from loguru import logger\n",
    "import pandas as pd\n",
    "from theano import shared\n",
    "from pymc_models import PyMCModel\n",
    "from pymc_models import bayes_nn_model_ARD_1HL_halfCauchy_hyperpriors as bnn_mdl"
   ]
  },
  {
   "cell_type": "code",
   "execution_count": 2,
   "metadata": {},
   "outputs": [],
   "source": [
    "with open('../PickleJar/DataSets/AphiTrainTestSplitDataSets.pkl', 'rb') as fb:\n",
    "    datadict = pickle.load(fb)\n",
    "X_s_train = datadict['x_train_s']\n",
    "y_train = datadict['y_train']\n",
    "X_s_test = datadict['x_test_s']\n",
    "y_test = datadict['y_test']"
   ]
  },
  {
   "cell_type": "code",
   "execution_count": 3,
   "metadata": {},
   "outputs": [
    {
     "name": "stderr",
     "output_type": "stream",
     "text": [
      "2019-03-11 11:11:19.021 | INFO     | __main__:<module>:11 - processing aphi411\n",
      "Auto-assigning NUTS sampler...\n",
      "Initializing NUTS using jitter+adapt_diag...\n",
      "Multiprocess sampling (4 chains in 4 jobs)\n",
      "NUTS: [sigma, bias, w, lambda_m, sd_bias, tau]\n",
      "Sampling 4 chains: 100%|██████████| 48000/48000 [00:56<00:00, 846.00draws/s] \n",
      "The number of effective samples is smaller than 25% for some parameters.\n",
      "100%|██████████| 8000/8000 [00:54<00:00, 148.09it/s]\n",
      "/accounts/ekarakoy/anaconda3/envs/bayesian_toa_project/lib/python3.7/site-packages/pymc3/stats.py:167: FutureWarning: arrays to stack must be passed as a \"sequence\" type such as list or tuple. Support for non-sequence iterables such as generators is deprecated as of NumPy 1.16 and will raise an error in the future.\n",
      "  return np.stack(logp)\n",
      "/accounts/ekarakoy/anaconda3/envs/bayesian_toa_project/lib/python3.7/site-packages/pymc3/stats.py:218: UserWarning: For one or more samples the posterior variance of the\n",
      "        log predictive densities exceeds 0.4. This could be indication of\n",
      "        WAIC starting to fail see http://arxiv.org/abs/1507.04544 for details\n",
      "        \n",
      "  \"\"\")\n",
      "100%|██████████| 8000/8000 [00:55<00:00, 143.01it/s]\n",
      "2019-03-11 11:14:12.206 | INFO     | __main__:<module>:11 - processing aphi443\n",
      "Auto-assigning NUTS sampler...\n",
      "Initializing NUTS using jitter+adapt_diag...\n",
      "Multiprocess sampling (4 chains in 4 jobs)\n",
      "NUTS: [sigma, bias, w, lambda_m, sd_bias, tau]\n",
      "Sampling 4 chains: 100%|██████████| 48000/48000 [00:56<00:00, 845.81draws/s] \n",
      "100%|██████████| 8000/8000 [00:56<00:00, 141.56it/s]\n",
      "100%|██████████| 8000/8000 [00:54<00:00, 147.10it/s]\n",
      "2019-03-11 11:17:04.480 | INFO     | __main__:<module>:11 - processing aphi489\n",
      "Auto-assigning NUTS sampler...\n",
      "Initializing NUTS using jitter+adapt_diag...\n",
      "Multiprocess sampling (4 chains in 4 jobs)\n",
      "NUTS: [sigma, bias, w, lambda_m, sd_bias, tau]\n",
      "Sampling 4 chains: 100%|██████████| 48000/48000 [00:54<00:00, 877.83draws/s]\n",
      "100%|██████████| 8000/8000 [00:54<00:00, 146.12it/s]\n",
      "100%|██████████| 8000/8000 [00:54<00:00, 146.69it/s]\n",
      "2019-03-11 11:19:53.025 | INFO     | __main__:<module>:11 - processing aphi510\n",
      "Auto-assigning NUTS sampler...\n",
      "Initializing NUTS using jitter+adapt_diag...\n",
      "Multiprocess sampling (4 chains in 4 jobs)\n",
      "NUTS: [sigma, bias, w, lambda_m, sd_bias, tau]\n",
      "Sampling 4 chains: 100%|██████████| 48000/48000 [00:54<00:00, 888.53draws/s] \n",
      "There were 3 divergences after tuning. Increase `target_accept` or reparameterize.\n",
      "The acceptance probability does not match the target. It is 0.8808060041712057, but should be close to 0.95. Try to increase the number of tuning steps.\n",
      "100%|██████████| 8000/8000 [00:59<00:00, 135.04it/s]\n",
      "100%|██████████| 8000/8000 [00:56<00:00, 116.41it/s]\n",
      "2019-03-11 11:22:48.204 | INFO     | __main__:<module>:11 - processing aphi555\n",
      "Auto-assigning NUTS sampler...\n",
      "Initializing NUTS using jitter+adapt_diag...\n",
      "Multiprocess sampling (4 chains in 4 jobs)\n",
      "NUTS: [sigma, bias, w, lambda_m, sd_bias, tau]\n",
      "Sampling 4 chains: 100%|██████████| 48000/48000 [00:57<00:00, 841.80draws/s]\n",
      "There was 1 divergence after tuning. Increase `target_accept` or reparameterize.\n",
      "The acceptance probability does not match the target. It is 0.8869753849549011, but should be close to 0.95. Try to increase the number of tuning steps.\n",
      "100%|██████████| 8000/8000 [00:58<00:00, 137.48it/s]\n",
      "100%|██████████| 8000/8000 [00:54<00:00, 146.24it/s]\n",
      "2019-03-11 11:25:43.436 | INFO     | __main__:<module>:11 - processing aphi670\n",
      "Auto-assigning NUTS sampler...\n",
      "Initializing NUTS using jitter+adapt_diag...\n",
      "Multiprocess sampling (4 chains in 4 jobs)\n",
      "NUTS: [sigma, bias, w, lambda_m, sd_bias, tau]\n",
      "Sampling 4 chains: 100%|██████████| 48000/48000 [00:52<00:00, 913.18draws/s] \n",
      "100%|██████████| 8000/8000 [00:52<00:00, 152.64it/s]\n",
      "100%|██████████| 8000/8000 [00:51<00:00, 155.75it/s]\n"
     ]
    }
   ],
   "source": [
    "bands = [411, 443, 489, 510, 555, 670]\n",
    "# create band-keyed dictionary to contain models\n",
    "model_dict=dict.fromkeys(bands)\n",
    "\n",
    "# create theano shared variable\n",
    "X_shared = shared(X_s_train.values)\n",
    "y_shared = shared(y_train['log10_aphy%d' % bands[0]].values)\n",
    "# Fitting aphi411 model:\n",
    "# Instantiate PyMC3 model with bnn likelihood\n",
    "for band in bands:\n",
    "    logger.info(\"processing aphi{band}\", band=band)\n",
    "    X_shared.set_value(X_s_train.values)\n",
    "    y_shared.set_value(y_train['log10_aphy%d' % band].values)\n",
    "    bnn = PyMCModel(bnn_mdl, X_shared, y_shared )\n",
    "    bnn.model.name = 'bnn_aphy%d' %band\n",
    "    bnn.fit(n_samples=2000, cores=4, chains=4, tune=10000,\n",
    "                nuts_kwargs=dict(target_accept=0.95))\n",
    "    ppc_train_ = bnn.predict(likelihood_name='likelihood')\n",
    "    waic_train = bnn.get_waic()\n",
    "    loo_train = bnn.get_loo()\n",
    "    model_train = deepcopy(bnn.model)\n",
    "    trace = deepcopy(bnn.trace_)\n",
    "    run_dict = dict(model_train=model_train, trace=trace,\n",
    "                    ppc_train=ppc_train_, loo_train=loo_train, waic_train=waic_train)\n",
    "    X_shared.set_value(X_s_test.values)\n",
    "    y_shared.set_value(y_test['log10_aphy%d' % band].values)\n",
    "    model_test = deepcopy(bnn.model)\n",
    "    ppc_test_ = bnn.predict(likelihood_name='likelihood')\n",
    "    waic_test = bnn.get_waic()\n",
    "    loo_test = bnn.get_loo()\n",
    "    run_dict.update(dict(model_test=model_test, ppc_test=ppc_test_,\n",
    "                         waic_test=waic_test, loo_test=loo_test))\n",
    "    model_dict[band] = run_dict"
   ]
  },
  {
   "cell_type": "code",
   "execution_count": 4,
   "metadata": {},
   "outputs": [],
   "source": [
    "with open('../PickleJar/Results/hshoe_model_dict_%s.pkl' %DT.now(), 'wb') as fb:\n",
    "        pickle.dump(model_dict, fb, protocol=pickle.HIGHEST_PROTOCOL)"
   ]
  },
  {
   "cell_type": "code",
   "execution_count": null,
   "metadata": {},
   "outputs": [],
   "source": []
  }
 ],
 "metadata": {
  "kernelspec": {
   "display_name": "Python [conda env:bayesian_toa_project] *",
   "language": "python",
   "name": "conda-env-bayesian_toa_project-py"
  },
  "language_info": {
   "codemirror_mode": {
    "name": "ipython",
    "version": 3
   },
   "file_extension": ".py",
   "mimetype": "text/x-python",
   "name": "python",
   "nbconvert_exporter": "python",
   "pygments_lexer": "ipython3",
   "version": "3.7.1"
  }
 },
 "nbformat": 4,
 "nbformat_minor": 2
}
