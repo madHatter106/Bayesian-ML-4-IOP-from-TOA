{
 "cells": [
  {
   "cell_type": "code",
   "execution_count": 1,
   "metadata": {},
   "outputs": [
    {
     "name": "stderr",
     "output_type": "stream",
     "text": [
      "WARNING (theano.configdefaults): install mkl with `conda install mkl-service`: No module named 'mkl'\n"
     ]
    }
   ],
   "source": [
    "import pickle\n",
    "from datetime import datetime as DT\n",
    "from loguru import logger\n",
    "import pandas as pd\n",
    "from theano import shared\n",
    "from pymc_models import PyMCModel\n",
    "from pymc_models import hs_regression\n",
    "from sklearn.preprocessing import PolynomialFeatures"
   ]
  },
  {
   "cell_type": "code",
   "execution_count": 5,
   "metadata": {},
   "outputs": [],
   "source": [
    "with open('../PickleJar/DataSets/AphiTrainTestSplitDataSets.pkl', 'rb') as fb:\n",
    "    datadict = pickle.load(fb)\n",
    "X_s_train = datadict['x_train_s']\n",
    "y_train = datadict['y_train']\n",
    "X_s_test = datadict['x_test_s']\n",
    "y_test = datadict['y_test']\n",
    "X_s_train_w_int = datadict['x_train_wi_s']\n",
    "X_s_test_w_int = datadict['x_test_wi_s']"
   ]
  },
  {
   "cell_type": "code",
   "execution_count": null,
   "metadata": {},
   "outputs": [
    {
     "name": "stderr",
     "output_type": "stream",
     "text": [
      "2019-03-08 16:34:52.429 | INFO     | __main__:<module>:11 - processing aphi411\n",
      "Auto-assigning NUTS sampler...\n",
      "Initializing NUTS using jitter+adapt_diag...\n",
      "Multiprocess sampling (4 chains in 4 jobs)\n",
      "NUTS: [sigma, bias, w, lambda_m, sd_bias, tau]\n",
      "Sampling 4 chains:  90%|█████████ | 43331/48000 [01:48<00:11, 408.91draws/s]"
     ]
    }
   ],
   "source": [
    "bands = [411, 443, 489, 510, 555, 670]\n",
    "# create band-keyed dictionary to contain models\n",
    "model_dict=dict.fromkeys(bands)\n",
    "\n",
    "# create theano shared variable\n",
    "X_shared = shared(X_s_train_w_int.values)\n",
    "y_shared = shared(y_train['log10_aphy%d' % bands[0]].values)\n",
    "# Fitting aphi411 model:\n",
    "# Instantiate PyMC3 model with bnn likelihood\n",
    "for band in bands:\n",
    "    logger.info(\"processing aphi{band}\", band=band)\n",
    "    X_shared.set_value(X_s_train_w_int.values)\n",
    "    y_shared.set_value(y_train['log10_aphy%d' % band].values)\n",
    "    hshoe_wi_ = PyMCModel(hs_regression, X_shared, y_shared )\n",
    "    hshoe_wi_.model.name = 'hshoe_wi_aphy%d' %band\n",
    "    hshoe_wi_.fit(n_samples=2000, cores=4, chains=4, tune=10000,\n",
    "                nuts_kwargs=dict(target_accept=0.95))\n",
    "    ppc_train_ = hshoe_wi_.predict(likelihood_name='likelihood')\n",
    "    waic_train = hshoe_.get_waic()\n",
    "    loo_train = hshoe_.get_loo()\n",
    "    model_train = deepcopy(hshoe_.model)\n",
    "    trace = deepcopy(hshoe_.trace_)\n",
    "    run_dict = dict(model_train=model, trace=trace,\n",
    "                    ppc_train=ppc_train_, loo_train=loo_train, waic_train=waic_train)\n",
    "    X_shared.set_value(X_s_test_w_int.values)\n",
    "    y_shared.set_value(y_test['log10_aphy%d' % band].values)\n",
    "    model_test = deepcopy(hshoe_.model)\n",
    "    ppc_test_ = hshoe_wi_.predict(likelihood_name='likelihood')\n",
    "    waic_test = hshoe_.get_waic()\n",
    "    loo_test = hshoe_.get_loo()\n",
    "    run_dict.update(dict(model_test=model_test, ppc_test=ppc_test_,\n",
    "                         waic_test=waic_test, loo_test=loo_test))\n",
    "    model_dict[band] = run_dict\n",
    "    "
   ]
  },
  {
   "cell_type": "code",
   "execution_count": 3,
   "metadata": {},
   "outputs": [
    {
     "ename": "FileNotFoundError",
     "evalue": "[Errno 2] No such file or directory: './pickleJar/AphiTrainTestSplitDataSets.pkl'",
     "output_type": "error",
     "traceback": [
      "\u001b[0;31m---------------------------------------------------------------------------\u001b[0m",
      "\u001b[0;31mFileNotFoundError\u001b[0m                         Traceback (most recent call last)",
      "\u001b[0;32m<ipython-input-3-09fce1adeaf3>\u001b[0m in \u001b[0;36m<module>\u001b[0;34m\u001b[0m\n\u001b[0;32m----> 1\u001b[0;31m \u001b[0;32mwith\u001b[0m \u001b[0mopen\u001b[0m\u001b[0;34m(\u001b[0m\u001b[0;34m'./pickleJar/AphiTrainTestSplitDataSets.pkl'\u001b[0m\u001b[0;34m,\u001b[0m \u001b[0;34m'rb'\u001b[0m\u001b[0;34m)\u001b[0m \u001b[0;32mas\u001b[0m \u001b[0mfb\u001b[0m\u001b[0;34m:\u001b[0m\u001b[0;34m\u001b[0m\u001b[0;34m\u001b[0m\u001b[0m\n\u001b[0m\u001b[1;32m      2\u001b[0m     \u001b[0mdatadict\u001b[0m \u001b[0;34m=\u001b[0m \u001b[0mpickle\u001b[0m\u001b[0;34m.\u001b[0m\u001b[0mload\u001b[0m\u001b[0;34m(\u001b[0m\u001b[0mfb\u001b[0m\u001b[0;34m)\u001b[0m\u001b[0;34m\u001b[0m\u001b[0;34m\u001b[0m\u001b[0m\n\u001b[1;32m      3\u001b[0m \u001b[0mX_s_train\u001b[0m \u001b[0;34m=\u001b[0m \u001b[0mdatadict\u001b[0m\u001b[0;34m[\u001b[0m\u001b[0;34m'x_train_s'\u001b[0m\u001b[0;34m]\u001b[0m\u001b[0;34m\u001b[0m\u001b[0;34m\u001b[0m\u001b[0m\n\u001b[1;32m      4\u001b[0m \u001b[0my_train\u001b[0m \u001b[0;34m=\u001b[0m \u001b[0mdatadict\u001b[0m\u001b[0;34m[\u001b[0m\u001b[0;34m'y_train'\u001b[0m\u001b[0;34m]\u001b[0m\u001b[0;34m\u001b[0m\u001b[0;34m\u001b[0m\u001b[0m\n\u001b[1;32m      5\u001b[0m \u001b[0mX_s_test\u001b[0m \u001b[0;34m=\u001b[0m \u001b[0mdatadict\u001b[0m\u001b[0;34m[\u001b[0m\u001b[0;34m'x_test_s'\u001b[0m\u001b[0;34m]\u001b[0m\u001b[0;34m\u001b[0m\u001b[0;34m\u001b[0m\u001b[0m\n",
      "\u001b[0;31mFileNotFoundError\u001b[0m: [Errno 2] No such file or directory: './pickleJar/AphiTrainTestSplitDataSets.pkl'"
     ]
    }
   ],
   "source": [
    "with open('../PickleJar/Results/hshoe_wi_model_dict_%s.pkl' %DT.now(), 'wb') as fb:\n",
    "        pickle.dump(model_dict, fb, protocol=pickle.HIGHEST_PROTOCOL)"
   ]
  },
  {
   "cell_type": "code",
   "execution_count": null,
   "metadata": {},
   "outputs": [],
   "source": []
  }
 ],
 "metadata": {
  "kernelspec": {
   "display_name": "Python [conda env:bayesian_toa_project] *",
   "language": "python",
   "name": "conda-env-bayesian_toa_project-py"
  },
  "language_info": {
   "codemirror_mode": {
    "name": "ipython",
    "version": 3
   },
   "file_extension": ".py",
   "mimetype": "text/x-python",
   "name": "python",
   "nbconvert_exporter": "python",
   "pygments_lexer": "ipython3",
   "version": "3.7.1"
  }
 },
 "nbformat": 4,
 "nbformat_minor": 2
}
