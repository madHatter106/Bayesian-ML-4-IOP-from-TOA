{
 "cells": [
  {
   "cell_type": "code",
   "execution_count": 14,
   "metadata": {},
   "outputs": [],
   "source": [
    "from copy import deepcopy\n",
    "import pickle\n",
    "from datetime import datetime as DT\n",
    "import pandas as pd\n",
    "import pymc3 as pm\n",
    "from theano import shared\n",
    "from pymc_models import PyMCModel\n",
    "from pymc_models import hs_regression\n",
    "from pymc_models import bayes_nn_model_ARD_1HL_halfCauchy_hyperpriors as bnn"
   ]
  },
  {
   "cell_type": "code",
   "execution_count": 3,
   "metadata": {},
   "outputs": [],
   "source": [
    "with open('../PickleJar/DataSets/AphiTrainTestSplitDataSets.pkl', 'rb') as fb:\n",
    "    datadict = pickle.load(fb)"
   ]
  },
  {
   "cell_type": "code",
   "execution_count": 16,
   "metadata": {},
   "outputs": [],
   "source": [
    "X_s_train = datadict['x_train_s']\n",
    "X_s_train_wi = datadict['x_train_wi_s']\n",
    "y_train = datadict['y_train']\n",
    "X_s_test = datadict['x_test_s']\n",
    "X_s_test_wi = datadict['x_test_wi_s']\n",
    "y_test = datadict['y_test']"
   ]
  },
  {
   "cell_type": "code",
   "execution_count": 17,
   "metadata": {},
   "outputs": [],
   "source": [
    "X_shared = shared(X_s_train.values)\n",
    "X_shared_wi = shared(X_s_train_wi.values)"
   ]
  },
  {
   "cell_type": "code",
   "execution_count": 18,
   "metadata": {},
   "outputs": [],
   "source": [
    "hshoe_ = PyMCModel(hs_regression, X_shared, y_train['log10_aphy411'])\n",
    "hshoe_wi_ = PyMCModel(hs_regression, X_shared_wi, y_train['log10_aphy411'])"
   ]
  },
  {
   "cell_type": "code",
   "execution_count": 19,
   "metadata": {},
   "outputs": [
    {
     "name": "stderr",
     "output_type": "stream",
     "text": [
      "Auto-assigning NUTS sampler...\n",
      "Initializing NUTS using jitter+adapt_diag...\n",
      "Multiprocess sampling (4 chains in 4 jobs)\n",
      "NUTS: [sigma, bias, w, lambda_m, sd_bias, tau]\n",
      "Sampling 4 chains: 100%|██████████| 48000/48000 [00:50<00:00, 958.30draws/s] \n"
     ]
    }
   ],
   "source": [
    "hshoe_.fit(n_samples=2000, cores=4, chains=4, tune=10000,\n",
    "                    nuts_kwargs=dict(target_accept=0.95))"
   ]
  },
  {
   "cell_type": "code",
   "execution_count": 20,
   "metadata": {},
   "outputs": [
    {
     "name": "stderr",
     "output_type": "stream",
     "text": [
      "Auto-assigning NUTS sampler...\n",
      "Initializing NUTS using jitter+adapt_diag...\n",
      "Multiprocess sampling (4 chains in 4 jobs)\n",
      "NUTS: [sigma, bias, w, lambda_m, sd_bias, tau]\n",
      "Sampling 4 chains: 100%|██████████| 48000/48000 [01:51<00:00, 429.27draws/s]\n"
     ]
    }
   ],
   "source": [
    "hshoe_wi_.fit(n_samples=2000, cores=4, chains=4, tune=10000,\n",
    "             nuts_kwargs=dict(target_accept=0.95))"
   ]
  },
  {
   "cell_type": "code",
   "execution_count": 22,
   "metadata": {},
   "outputs": [],
   "source": [
    "trace_reg = deepcopy(hshoe_.trace_)\n",
    "trace_reg_wi = deepcopy(hshoe_wi_.trace_)"
   ]
  },
  {
   "cell_type": "code",
   "execution_count": 25,
   "metadata": {},
   "outputs": [],
   "source": [
    "model = deepcopy(hshoe_.model)\n",
    "model_wi = deepcopy(hshoe_wi_.model)"
   ]
  },
  {
   "cell_type": "code",
   "execution_count": 13,
   "metadata": {},
   "outputs": [
    {
     "name": "stderr",
     "output_type": "stream",
     "text": [
      "/accounts/ekarakoy/anaconda3/envs/bayesian_toa_project/lib/python3.7/site-packages/pymc3/stats.py:167: FutureWarning: arrays to stack must be passed as a \"sequence\" type such as list or tuple. Support for non-sequence iterables such as generators is deprecated as of NumPy 1.16 and will raise an error in the future.\n",
      "  return np.stack(logp)\n",
      "/accounts/ekarakoy/anaconda3/envs/bayesian_toa_project/lib/python3.7/site-packages/pymc3/stats.py:218: UserWarning: For one or more samples the posterior variance of the\n",
      "        log predictive densities exceeds 0.4. This could be indication of\n",
      "        WAIC starting to fail see http://arxiv.org/abs/1507.04544 for details\n",
      "        \n",
      "  \"\"\")\n"
     ]
    },
    {
     "data": {
      "text/plain": [
       "WAIC_r(WAIC=-25.743940846195898, WAIC_se=15.040510900787057, p_WAIC=9.874940661489262, var_warn=1)"
      ]
     },
     "execution_count": 13,
     "metadata": {},
     "output_type": "execute_result"
    }
   ],
   "source": [
    "try:\n",
    "    hshoe_.get_waic()\n",
    "except UserWarning:\n",
    "    hshoe_.get_loo()"
   ]
  },
  {
   "cell_type": "code",
   "execution_count": 15,
   "metadata": {},
   "outputs": [
    {
     "name": "stderr",
     "output_type": "stream",
     "text": [
      "/accounts/ekarakoy/anaconda3/envs/bayesian_toa_project/lib/python3.7/site-packages/pymc3/stats.py:167: FutureWarning: arrays to stack must be passed as a \"sequence\" type such as list or tuple. Support for non-sequence iterables such as generators is deprecated as of NumPy 1.16 and will raise an error in the future.\n",
      "  return np.stack(logp)\n"
     ]
    },
    {
     "data": {
      "text/plain": [
       "LOO_r(LOO=-25.516750044859283, LOO_se=15.067548887853803, p_LOO=9.98853606215757, shape_warn=0)"
      ]
     },
     "execution_count": 15,
     "metadata": {},
     "output_type": "execute_result"
    }
   ],
   "source": [
    "pm.loo(trace, model)"
   ]
  },
  {
   "cell_type": "code",
   "execution_count": null,
   "metadata": {},
   "outputs": [],
   "source": []
  }
 ],
 "metadata": {
  "kernelspec": {
   "display_name": "Python 3",
   "language": "python",
   "name": "python3"
  },
  "language_info": {
   "codemirror_mode": {
    "name": "ipython",
    "version": 3
   },
   "file_extension": ".py",
   "mimetype": "text/x-python",
   "name": "python",
   "nbconvert_exporter": "python",
   "pygments_lexer": "ipython3",
   "version": "3.7.1"
  }
 },
 "nbformat": 4,
 "nbformat_minor": 2
}
