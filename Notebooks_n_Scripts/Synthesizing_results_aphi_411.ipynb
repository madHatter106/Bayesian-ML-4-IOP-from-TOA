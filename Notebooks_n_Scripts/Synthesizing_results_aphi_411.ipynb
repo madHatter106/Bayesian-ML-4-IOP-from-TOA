{
 "cells": [
  {
   "cell_type": "code",
   "execution_count": 14,
   "metadata": {},
   "outputs": [],
   "source": [
    "import pathlib\n",
    "import pickle\n",
    "import pymc3 as pm\n",
    "import arviz as ar"
   ]
  },
  {
   "cell_type": "code",
   "execution_count": 2,
   "metadata": {},
   "outputs": [
    {
     "name": "stderr",
     "output_type": "stream",
     "text": [
      "UsageError: Line magic function `%` not found.\n"
     ]
    }
   ],
   "source": [
    "% matplotlib inline"
   ]
  },
  {
   "cell_type": "code",
   "execution_count": 13,
   "metadata": {},
   "outputs": [],
   "source": [
    "home = pathlib.Path.home()\n",
    "mainpath = home / 'WRITEUPS/TOA_ML_Writeup/PickleJar/Results/'\n",
    "hshoe_mdls_dict_path = mainpath / 'hshoe_model_dict_2019-03-11 11:28:24.037642.pkl'\n",
    "hshoe_wi_mdls_d_path = mainpath / 'hshoe_wi_model_dict_2019-03-11 10:59:38.864999.pkl'\n",
    "bnn_mdl_dict_path = mainpath / 'bnn_model_dict_2019-03-13 16:24:39.004894.pkl'"
   ]
  },
  {
   "cell_type": "code",
   "execution_count": 15,
   "metadata": {},
   "outputs": [],
   "source": [
    "with open(hshoe_mdls_dict_path, 'rb') as fb:\n",
    "    hshoe_mdl411_dict = pickle.load(fb)[411]\n",
    "with open(hshoe_wi_mdls_d_path, 'rb') as fb:\n",
    "    hshoe_wi_mdl411_dict = pickle.load(fb)[411]\n",
    "with open(bnn_mdl_dict_path, 'rb') as fb:\n",
    "    bnn_mdl_411_dict = pickle.load(fb)[411]"
   ]
  },
  {
   "cell_type": "code",
   "execution_count": 17,
   "metadata": {},
   "outputs": [
    {
     "data": {
      "text/plain": [
       "dict_keys(['model_train', 'trace', 'ppc_train', 'loo_train', 'waic_train', 'model_test', 'ppc_test', 'waic_test', 'loo_test'])"
      ]
     },
     "execution_count": 17,
     "metadata": {},
     "output_type": "execute_result"
    }
   ],
   "source": [
    "hshoe_mdl411_dict.keys()"
   ]
  },
  {
   "cell_type": "code",
   "execution_count": 30,
   "metadata": {},
   "outputs": [],
   "source": [
    "hshoe_mdl411 = hshoe_mdl411_dict['model_train']\n",
    "hshoe_mdl411_test = hshoe_mdl411_dict['model_test']\n",
    "hshoe_trc411 = hshoe_mdl411_dict['trace']\n",
    "hshoe_mdl411.name = 'hs'\n",
    "hshoe_mdl411_test.name='hs'"
   ]
  },
  {
   "cell_type": "code",
   "execution_count": 31,
   "metadata": {},
   "outputs": [],
   "source": [
    "hshoe_wi_mdl411 = hshoe_wi_mdl411_dict['model_train']\n",
    "hshoe_wi_mdl411_test = hshoe_wi_mdl411_dict['model_test']\n",
    "hshoe_wi_trc411 = hshoe_wi_mdl411_dict['trace']\n",
    "hshoe_wi_mdl411.name = 'hs_wi'\n",
    "hshoe_wi_mdl411_test.name = 'hs_wi'"
   ]
  },
  {
   "cell_type": "code",
   "execution_count": 32,
   "metadata": {},
   "outputs": [],
   "source": [
    "bnn_mdl411 = bnn_mdl_411_dict['model_train']\n",
    "bnn_mdl411_test = bnn_mdl_411_dict['model_test']\n",
    "bnn_trc411 = bnn_mdl_411_dict['trace']\n",
    "bnn_mdl411.name = 'bnn'\n",
    "bnn_mdl411_test.name = 'bnn'"
   ]
  },
  {
   "cell_type": "code",
   "execution_count": 39,
   "metadata": {},
   "outputs": [
    {
     "data": {
      "text/html": [
       "<div>\n",
       "<style scoped>\n",
       "    .dataframe tbody tr th:only-of-type {\n",
       "        vertical-align: middle;\n",
       "    }\n",
       "\n",
       "    .dataframe tbody tr th {\n",
       "        vertical-align: top;\n",
       "    }\n",
       "\n",
       "    .dataframe thead th {\n",
       "        text-align: right;\n",
       "    }\n",
       "</style>\n",
       "<table border=\"1\" class=\"dataframe\">\n",
       "  <thead>\n",
       "    <tr style=\"text-align: right;\">\n",
       "      <th></th>\n",
       "      <th>WAIC</th>\n",
       "      <th>pWAIC</th>\n",
       "      <th>dWAIC</th>\n",
       "      <th>weight</th>\n",
       "      <th>SE</th>\n",
       "      <th>dSE</th>\n",
       "      <th>var_warn</th>\n",
       "    </tr>\n",
       "  </thead>\n",
       "  <tbody>\n",
       "    <tr>\n",
       "      <th>bnn</th>\n",
       "      <td>-147.03</td>\n",
       "      <td>27.79</td>\n",
       "      <td>0</td>\n",
       "      <td>0.99</td>\n",
       "      <td>19.43</td>\n",
       "      <td>0</td>\n",
       "      <td>1</td>\n",
       "    </tr>\n",
       "    <tr>\n",
       "      <th>hs_wi</th>\n",
       "      <td>-70.36</td>\n",
       "      <td>32.73</td>\n",
       "      <td>76.67</td>\n",
       "      <td>0</td>\n",
       "      <td>18.47</td>\n",
       "      <td>13.4</td>\n",
       "      <td>1</td>\n",
       "    </tr>\n",
       "    <tr>\n",
       "      <th>hs</th>\n",
       "      <td>-25.97</td>\n",
       "      <td>9.79</td>\n",
       "      <td>121.06</td>\n",
       "      <td>0.01</td>\n",
       "      <td>15.03</td>\n",
       "      <td>16.45</td>\n",
       "      <td>1</td>\n",
       "    </tr>\n",
       "  </tbody>\n",
       "</table>\n",
       "</div>"
      ],
      "text/plain": [
       "         WAIC  pWAIC   dWAIC weight     SE    dSE var_warn\n",
       "bnn   -147.03  27.79       0   0.99  19.43      0        1\n",
       "hs_wi  -70.36  32.73   76.67      0  18.47   13.4        1\n",
       "hs     -25.97   9.79  121.06   0.01  15.03  16.45        1"
      ]
     },
     "execution_count": 39,
     "metadata": {},
     "output_type": "execute_result"
    }
   ],
   "source": [
    "pm.compare({hshoe_mdl411: hshoe_trc411, \n",
    "                           hshoe_wi_mdl411: hshoe_wi_trc411,\n",
    "                           bnn_mdl411: bnn_trc411}\n",
    "                         )"
   ]
  },
  {
   "cell_type": "code",
   "execution_count": null,
   "metadata": {},
   "outputs": [],
   "source": []
  },
  {
   "cell_type": "code",
   "execution_count": 35,
   "metadata": {
    "scrolled": true
   },
   "outputs": [
    {
     "name": "stderr",
     "output_type": "stream",
     "text": [
      "/accounts/ekarakoy/anaconda3/envs/bayesian_toa_project/lib/python3.7/site-packages/pymc3/stats.py:299: UserWarning: Estimated shape parameter of Pareto distribution is\n",
      "        greater than 0.7 for one or more samples.\n",
      "        You should consider using a more robust model, this is because\n",
      "        importance sampling is less likely to work well if the marginal\n",
      "        posterior and LOO posterior are very different. This is more likely to\n",
      "        happen with a non-robust model and highly influential observations.\n",
      "  happen with a non-robust model and highly influential observations.\"\"\")\n"
     ]
    },
    {
     "data": {
      "text/html": [
       "<div>\n",
       "<style scoped>\n",
       "    .dataframe tbody tr th:only-of-type {\n",
       "        vertical-align: middle;\n",
       "    }\n",
       "\n",
       "    .dataframe tbody tr th {\n",
       "        vertical-align: top;\n",
       "    }\n",
       "\n",
       "    .dataframe thead th {\n",
       "        text-align: right;\n",
       "    }\n",
       "</style>\n",
       "<table border=\"1\" class=\"dataframe\">\n",
       "  <thead>\n",
       "    <tr style=\"text-align: right;\">\n",
       "      <th></th>\n",
       "      <th>LOO</th>\n",
       "      <th>pLOO</th>\n",
       "      <th>dLOO</th>\n",
       "      <th>weight</th>\n",
       "      <th>SE</th>\n",
       "      <th>dSE</th>\n",
       "      <th>shape_warn</th>\n",
       "    </tr>\n",
       "  </thead>\n",
       "  <tbody>\n",
       "    <tr>\n",
       "      <th>bnn</th>\n",
       "      <td>-140.85</td>\n",
       "      <td>30.88</td>\n",
       "      <td>0</td>\n",
       "      <td>0.98</td>\n",
       "      <td>20.23</td>\n",
       "      <td>0</td>\n",
       "      <td>1</td>\n",
       "    </tr>\n",
       "    <tr>\n",
       "      <th>hs_wi</th>\n",
       "      <td>-61.7</td>\n",
       "      <td>37.06</td>\n",
       "      <td>79.15</td>\n",
       "      <td>0</td>\n",
       "      <td>19.43</td>\n",
       "      <td>13.76</td>\n",
       "      <td>1</td>\n",
       "    </tr>\n",
       "    <tr>\n",
       "      <th>hs</th>\n",
       "      <td>-25.74</td>\n",
       "      <td>9.9</td>\n",
       "      <td>115.11</td>\n",
       "      <td>0.02</td>\n",
       "      <td>15.06</td>\n",
       "      <td>16.99</td>\n",
       "      <td>0</td>\n",
       "    </tr>\n",
       "  </tbody>\n",
       "</table>\n",
       "</div>"
      ],
      "text/plain": [
       "          LOO   pLOO    dLOO weight     SE    dSE shape_warn\n",
       "bnn   -140.85  30.88       0   0.98  20.23      0          1\n",
       "hs_wi   -61.7  37.06   79.15      0  19.43  13.76          1\n",
       "hs     -25.74    9.9  115.11   0.02  15.06  16.99          0"
      ]
     },
     "execution_count": 35,
     "metadata": {},
     "output_type": "execute_result"
    }
   ],
   "source": [
    "pm.compare({hshoe_mdl411: hshoe_trc411, \n",
    "            hshoe_wi_mdl411: hshoe_wi_trc411,\n",
    "            bnn_mdl411: bnn_trc411}, ic='LOO')"
   ]
  },
  {
   "cell_type": "code",
   "execution_count": 20,
   "metadata": {},
   "outputs": [
    {
     "data": {
      "text/plain": [
       "LOO_r(LOO=-25.74332045511323, LOO_se=15.059808656030803, p_LOO=9.90167670646789, shape_warn=0)"
      ]
     },
     "execution_count": 20,
     "metadata": {},
     "output_type": "execute_result"
    }
   ],
   "source": [
    "pm.loo(hshoe_trc411, model=hshoe_mdl411)"
   ]
  },
  {
   "cell_type": "code",
   "execution_count": 21,
   "metadata": {},
   "outputs": [
    {
     "data": {
      "text/plain": [
       "LOO_r(LOO=-25.74332045511323, LOO_se=15.059808656030803, p_LOO=9.90167670646789, shape_warn=0)"
      ]
     },
     "execution_count": 21,
     "metadata": {},
     "output_type": "execute_result"
    }
   ],
   "source": [
    "hshoe_mdl411_dict['loo_train']"
   ]
  },
  {
   "cell_type": "code",
   "execution_count": 23,
   "metadata": {},
   "outputs": [
    {
     "name": "stderr",
     "output_type": "stream",
     "text": [
      "/accounts/ekarakoy/anaconda3/envs/bayesian_toa_project/lib/python3.7/site-packages/pymc3/stats.py:167: FutureWarning: arrays to stack must be passed as a \"sequence\" type such as list or tuple. Support for non-sequence iterables such as generators is deprecated as of NumPy 1.16 and will raise an error in the future.\n",
      "  return np.stack(logp)\n"
     ]
    },
    {
     "data": {
      "text/plain": [
       "LOO_r(LOO=-3.1693293174978514, LOO_se=4.788258790813179, p_LOO=1.3783246168603314, shape_warn=0)"
      ]
     },
     "execution_count": 23,
     "metadata": {},
     "output_type": "execute_result"
    }
   ],
   "source": [
    "pm.loo(hshoe_trc411, model=hshoe_mdl411_test)"
   ]
  },
  {
   "cell_type": "code",
   "execution_count": 24,
   "metadata": {},
   "outputs": [
    {
     "data": {
      "text/plain": [
       "LOO_r(LOO=-3.1693293174978514, LOO_se=4.788258790813179, p_LOO=1.3783246168603314, shape_warn=0)"
      ]
     },
     "execution_count": 24,
     "metadata": {},
     "output_type": "execute_result"
    }
   ],
   "source": [
    "hshoe_mdl411_dict['loo_test']"
   ]
  },
  {
   "cell_type": "code",
   "execution_count": 42,
   "metadata": {},
   "outputs": [
    {
     "data": {
      "text/plain": [
       "-25.971612935192088"
      ]
     },
     "execution_count": 42,
     "metadata": {},
     "output_type": "execute_result"
    }
   ],
   "source": [
    "hshoe_mdl411_dict['waic_train'].WAIC"
   ]
  },
  {
   "cell_type": "code",
   "execution_count": 43,
   "metadata": {},
   "outputs": [
    {
     "data": {
      "text/plain": [
       "-5.925978551218513"
      ]
     },
     "execution_count": 43,
     "metadata": {},
     "output_type": "execute_result"
    }
   ],
   "source": [
    "hshoe_mdl411_dict['waic_test'].WAIC - 2 * hshoe_mdl411_dict['waic_test'].p_WAIC"
   ]
  },
  {
   "cell_type": "code",
   "execution_count": 57,
   "metadata": {},
   "outputs": [
    {
     "data": {
      "text/plain": [
       "8.529411764705882"
      ]
     },
     "execution_count": 57,
     "metadata": {},
     "output_type": "execute_result"
    }
   ],
   "source": [
    "145 / 17 "
   ]
  },
  {
   "cell_type": "code",
   "execution_count": 48,
   "metadata": {},
   "outputs": [
    {
     "data": {
      "text/plain": [
       "4.333333333333333"
      ]
     },
     "execution_count": 48,
     "metadata": {},
     "output_type": "execute_result"
    }
   ],
   "source": []
  },
  {
   "cell_type": "code",
   "execution_count": 50,
   "metadata": {},
   "outputs": [
    {
     "data": {
      "text/plain": [
       "-70.36296350765907"
      ]
     },
     "execution_count": 50,
     "metadata": {},
     "output_type": "execute_result"
    }
   ],
   "source": [
    "hshoe_wi_mdl411_dict['waic_train'].WAIC"
   ]
  },
  {
   "cell_type": "code",
   "execution_count": 51,
   "metadata": {},
   "outputs": [
    {
     "data": {
      "text/plain": [
       "-15.969470317597406"
      ]
     },
     "execution_count": 51,
     "metadata": {},
     "output_type": "execute_result"
    }
   ],
   "source": [
    "hshoe_wi_mdl411_dict['waic_test'].WAIC - 2 * hshoe_wi_mdl411_dict['waic_test'].p_WAIC"
   ]
  },
  {
   "cell_type": "code",
   "execution_count": 53,
   "metadata": {},
   "outputs": [
    {
     "data": {
      "text/plain": [
       "4.666666666666667"
      ]
     },
     "execution_count": 53,
     "metadata": {},
     "output_type": "execute_result"
    }
   ],
   "source": [
    "-70 / -15 "
   ]
  },
  {
   "cell_type": "code",
   "execution_count": 54,
   "metadata": {},
   "outputs": [
    {
     "data": {
      "text/plain": [
       "-147.0328043503481"
      ]
     },
     "execution_count": 54,
     "metadata": {},
     "output_type": "execute_result"
    }
   ],
   "source": [
    "bnn_mdl_411_dict['waic_train'].WAIC"
   ]
  },
  {
   "cell_type": "code",
   "execution_count": 55,
   "metadata": {},
   "outputs": [
    {
     "data": {
      "text/plain": [
       "-22.986930233819514"
      ]
     },
     "execution_count": 55,
     "metadata": {},
     "output_type": "execute_result"
    }
   ],
   "source": [
    "bnn_mdl_411_dict['waic_test'].WAIC - 2 * bnn_mdl_411_dict['waic_test'].p_WAIC"
   ]
  },
  {
   "cell_type": "code",
   "execution_count": 58,
   "metadata": {},
   "outputs": [
    {
     "data": {
      "text/plain": [
       "6.391304347826087"
      ]
     },
     "execution_count": 58,
     "metadata": {},
     "output_type": "execute_result"
    }
   ],
   "source": [
    "147 / 23"
   ]
  },
  {
   "cell_type": "code",
   "execution_count": null,
   "metadata": {},
   "outputs": [],
   "source": []
  }
 ],
 "metadata": {
  "kernelspec": {
   "display_name": "Python [conda env:bayesian_toa_project] *",
   "language": "python",
   "name": "conda-env-bayesian_toa_project-py"
  },
  "language_info": {
   "codemirror_mode": {
    "name": "ipython",
    "version": 3
   },
   "file_extension": ".py",
   "mimetype": "text/x-python",
   "name": "python",
   "nbconvert_exporter": "python",
   "pygments_lexer": "ipython3",
   "version": "3.7.1"
  }
 },
 "nbformat": 4,
 "nbformat_minor": 2
}
